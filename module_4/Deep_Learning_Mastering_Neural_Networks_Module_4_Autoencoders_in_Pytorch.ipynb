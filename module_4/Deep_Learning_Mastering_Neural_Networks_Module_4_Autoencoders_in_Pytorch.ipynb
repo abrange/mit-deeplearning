{
 "cells": [
  {
   "cell_type": "markdown",
   "metadata": {
    "colab_type": "text",
    "id": "view-in-github"
   },
   "source": [
    "<a href=\"https://colab.research.google.com/github/abrange/mit-deeplearning/blob/main/module_4/Deep_Learning_Mastering_Neural_Networks_Module_4_Autoencoders_in_Pytorch.ipynb\" target=\"_parent\"><img src=\"https://colab.research.google.com/assets/colab-badge.svg\" alt=\"Open In Colab\"/></a>"
   ]
  },
  {
   "cell_type": "markdown",
   "metadata": {
    "id": "VdlgKsQGsptg"
   },
   "source": [
    "# Module 4: Pytorch Implementation of Autoencoder\n",
    "\n",
    "## Introduction\n",
    "\n",
    "In this notebook we will build upon the PyTorch foundations from Module 3 and implement a different kind of Neural Network Architecture: an Autoencoder.\n",
    "\n",
    "Autoencoders main goal is to learn a simplified or encoded representation of a dataset. First we divide the network into two halves, an encoder and a decoder. The encoder starts with the input and reduces it to a simpler latent representation and the decoder takes that representation and reproduces the original input.\n",
    "\n",
    "In the following notebook we will look at two different autoencoders. The first is a simple autoencoder that will be trained on 3 different MNIST digits. We will then visualize the 2D latent representation.\n",
    "\n",
    "The next is a larger network that we will train on the entire MNIST dataset and effectively reconstruct input images from the output!"
   ]
  },
  {
   "cell_type": "markdown",
   "metadata": {
    "id": "bXf856rE1MZ7"
   },
   "source": [
    "## Simple Autoencoder with 0, 1, 2 MNIST Digits\n",
    "\n",
    "For our first Autoencoder network, we will recreate the example shown in Module 4 using the digits 0, 1, and 2 from the MNIST dataset.\n",
    "\n",
    "First we will train our autoencoder using RMSE with the inputs and labels being the same. Once our autoencoder is trained, we will visualized the 2D latent space encoding.\n",
    "\n",
    "\n"
   ]
  },
  {
   "cell_type": "markdown",
   "metadata": {
    "id": "1xiAVGt02kvx"
   },
   "source": [
    "### Dataset Preparation and Module Import\n",
    "\n",
    "Here we will load in the MNIST dataset we used in the Module 3 assignment. It is built into Pytorch so it's super easy to use!\n",
    "\n",
    "Additionally, we will prune the dataset to only contain the digits 0, 1, and 2."
   ]
  },
  {
   "cell_type": "code",
   "execution_count": 3,
   "metadata": {
    "colab": {
     "base_uri": "https://localhost:8080/"
    },
    "id": "q2dF_mTx8Y7s",
    "outputId": "64965a61-57dc-4e47-b447-78403d7300e1"
   },
   "outputs": [
    {
     "data": {
      "text/plain": [
       "device(type='cpu')"
      ]
     },
     "execution_count": 3,
     "metadata": {},
     "output_type": "execute_result"
    }
   ],
   "source": [
    "import torch\n",
    "import torch.nn as nn\n",
    "import numpy as np\n",
    "import torchvision.datasets\n",
    "from torchvision import transforms\n",
    "from torch.utils.data import Subset\n",
    "from torch.utils.data import DataLoader\n",
    "import time, copy\n",
    "# device config (train our model on GPU if it is available which is much faster)\n",
    "device = torch.device('cuda' if torch.cuda.is_available() else 'cpu')\n",
    "device"
   ]
  },
  {
   "cell_type": "code",
   "execution_count": 2,
   "metadata": {
    "colab": {
     "base_uri": "https://localhost:8080/",
     "height": 423,
     "referenced_widgets": [
      "35797fd014784ae4b98324678410667e",
      "39384b61a1e240d8a1507745425bd647",
      "9b02f00fe5254cb391654b48e2238694",
      "bb5b67550a2449d3a13968714722c12d",
      "72ae47288111494ea17211a148aa210a",
      "50580fbe2650405f8aa2462474e6bbc7",
      "8591915be24b41509fb51b4695f9ecf1",
      "cffc82668cec4f7d8efe93c5a05fb7ad",
      "62e3ed58cba04b9cb6d15f2c1d73b593",
      "3689848f88144c9fae1a4679a2d2b285",
      "73d66f6df7f24be48c8d357ddc2ab6bb",
      "5650092986fd42eebf38c049968847f9",
      "b5d1c79c99a9406899e0a4b363f15609",
      "73a3e57e240646d88fb3f4f38b941ae6",
      "90cddfec11a94f8ea24415d788ca6284",
      "f8b2d20259ab41f4a255b9d135cc9fde",
      "2e6f5363febd4a15b167a45dfb973996",
      "263381ade6b54cdfb7d1fb27fa011df3",
      "be45cf15bb8248f397c7e12b9b5eee70",
      "65e97ccfbd864fdab4f96b6103bb79a8",
      "b10a2b5322f3414383407ae5654e597e",
      "fbb7f2f6b86d434fb01e804d713c59bd",
      "49382eca3f1b40999d91c6b24dfbc3f2",
      "94a05bc95a1c448689a1c570ee3e06e1",
      "611f258f116b4588b1657c7a78d52710",
      "d1decfa2fa8846f7a0dd006db576814d",
      "8e3dff713e6b4ead80f2a484044eade0",
      "25b54c7509bf4e6a9a14b00d2faf1525",
      "e70a8735083b4c1ca2abebad798c905d",
      "99621d36591549b79b19039d631edba7",
      "f92f33f64a3a4dc288c09496f1009bef",
      "3e4abfc234874050a17ad30215f695ef",
      "7ed918036dc94d789643efbac17979d3",
      "0242af46428846ddbbbbd641df8f10ce",
      "05c7f0a0bbc84e478eecfd102295211d",
      "2cd8342a4251429199a6f099a0219be4",
      "f1a65fa4e21e48349d85da6db26df1c4",
      "5c2ef9a2cc9e4189a20f70559e967974",
      "8ac1258fb0a44bd29269b5afba0c7614",
      "eda0f89ab9ee4ef0843f6436ef133221",
      "e28b0e4ee60348278f4495c8a64dfbe6",
      "9810a7af1bcf424cb5764270374aa680",
      "0041f2b533e74cbe919559f715b9bfd5",
      "a7cdc83ddb6444e1b0cb870181cbad86"
     ]
    },
    "id": "RXHEdQOlTM-l",
    "outputId": "d82d109e-1e0c-474b-bd2e-5f514be1eb65"
   },
   "outputs": [],
   "source": [
    "# These transforms will be performed on every datapoint - in this example we want to transform every\n",
    "# datapoint to a Tensor datatype, and perform normalization\n",
    "transform = transforms.Compose([transforms.ToTensor(), transforms.Normalize([0.5], [0.5])])\n",
    "mnist_train = torchvision.datasets.MNIST('', train=True, transform =transform, download=True)\n",
    "# Here we will only keep the digits 0, 1, and 2\n",
    "train_indices = [idx for idx, target in enumerate(mnist_train.targets) if target in [0, 1, 2]]\n",
    "mnist_train = Subset(mnist_train, train_indices)\n",
    "\n",
    "# We will split out train dataset into train and validation!\n",
    "mnist_train, mnist_val = torch.utils.data.random_split(mnist_train, [int(np.floor(len(mnist_train)*0.75)), int(np.ceil(len(mnist_train)*0.25))])\n",
    "\n",
    "# Keep only the digits 0, 1, and 2 for the test as well\n",
    "mnist_test = torchvision.datasets.MNIST('', train=False, transform = transform, download=True)\n",
    "test_indices = [idx for idx, target in enumerate(mnist_test.targets) if target in [0, 1, 2]]\n",
    "mnist_test = Subset(mnist_test, test_indices)\n"
   ]
  },
  {
   "cell_type": "code",
   "execution_count": 4,
   "metadata": {
    "colab": {
     "base_uri": "https://localhost:8080/"
    },
    "id": "GvSyIFUR_feM",
    "outputId": "5c9a0706-ad0f-4828-bc18-4e3bfc6024ff"
   },
   "outputs": [
    {
     "name": "stdout",
     "output_type": "stream",
     "text": [
      "dataset_sizes = {'train': 13967, 'val': 4656, 'test': 3147}\n"
     ]
    }
   ],
   "source": [
    "# We will create DataLoaders just like before with a batch size of 100\n",
    "batch_size = 100\n",
    "dataloaders = {'train': DataLoader(mnist_train, batch_size=batch_size),\n",
    "               'val': DataLoader(mnist_val, batch_size=batch_size),\n",
    "               'test': DataLoader(mnist_test, batch_size=batch_size)}\n",
    "\n",
    "dataset_sizes = {'train': len(mnist_train),\n",
    "                 'val': len(mnist_val),\n",
    "                 'test': len(mnist_test)}\n",
    "print(f'dataset_sizes = {dataset_sizes}')"
   ]
  },
  {
   "cell_type": "markdown",
   "metadata": {
    "id": "4UBFTUfy3HUo"
   },
   "source": [
    "### Model Hyperparameters and Definition\n",
    "\n",
    "This network is very simple to the networks built in Module 3, with Linear layers and ReLU activation. However, notice that we have separated into two distinct sections: and encoder and decoder. By writing the code this way, it allows us to easily encode a specific datapoint after our model is trained."
   ]
  },
  {
   "cell_type": "code",
   "execution_count": 5,
   "metadata": {
    "id": "h6SfpddS_kB1"
   },
   "outputs": [],
   "source": [
    "class SimpleAutoEncoder(nn.Module):\n",
    "    def __init__(self, input_size):\n",
    "        super(SimpleAutoEncoder, self).__init__()\n",
    "        # Split the Encoder and Decoder\n",
    "        self.encoder = nn.Sequential(\n",
    "            nn.Linear(input_size, 128),\n",
    "            nn.ReLU(),\n",
    "            nn.Linear(128, 64),\n",
    "            nn.ReLU(),\n",
    "            nn.Linear(64, 2)\n",
    "        )\n",
    "\n",
    "        self.decoder = nn.Sequential(\n",
    "            nn.Linear(2, 64),\n",
    "            nn.ReLU(),\n",
    "            nn.Linear(64, 128),\n",
    "            nn.ReLU(),\n",
    "            nn.Linear(128, input_size)\n",
    "        )\n",
    "\n",
    "    def forward(self, x):\n",
    "        return self.decoder(self.encoder(x))\n",
    "\n",
    "    def encode(self, x):\n",
    "        return self.encoder(x)\n",
    "\n"
   ]
  },
  {
   "cell_type": "code",
   "execution_count": 6,
   "metadata": {
    "id": "rt84wbCgG7VJ"
   },
   "outputs": [],
   "source": [
    "# hyperparameters\n",
    "\n",
    "input_size = 784 # flattening our dataset 28*28 = 784\n",
    "learning_rate = 0.001\n",
    "num_epochs = 5"
   ]
  },
  {
   "cell_type": "code",
   "execution_count": 7,
   "metadata": {
    "colab": {
     "base_uri": "https://localhost:8080/"
    },
    "id": "DS_C0AH5HInn",
    "outputId": "a99f544f-c59c-46b8-a7e3-506502348b47"
   },
   "outputs": [
    {
     "name": "stdout",
     "output_type": "stream",
     "text": [
      "SimpleAutoEncoder(\n",
      "  (encoder): Sequential(\n",
      "    (0): Linear(in_features=784, out_features=128, bias=True)\n",
      "    (1): ReLU()\n",
      "    (2): Linear(in_features=128, out_features=64, bias=True)\n",
      "    (3): ReLU()\n",
      "    (4): Linear(in_features=64, out_features=2, bias=True)\n",
      "  )\n",
      "  (decoder): Sequential(\n",
      "    (0): Linear(in_features=2, out_features=64, bias=True)\n",
      "    (1): ReLU()\n",
      "    (2): Linear(in_features=64, out_features=128, bias=True)\n",
      "    (3): ReLU()\n",
      "    (4): Linear(in_features=128, out_features=784, bias=True)\n",
      "  )\n",
      ")\n"
     ]
    }
   ],
   "source": [
    "model = SimpleAutoEncoder(input_size).to(device)\n",
    "print(model)"
   ]
  },
  {
   "cell_type": "markdown",
   "metadata": {
    "id": "1ngKCfet3MXl"
   },
   "source": [
    "### Training the Model\n",
    "\n",
    "This training function is very similar to the ones written in previous sections. The key thing to notice is that an autoencoder is very similar to a regression so we don't have specific class labels/accuracy, only loss."
   ]
  },
  {
   "cell_type": "code",
   "execution_count": 8,
   "metadata": {
    "id": "_Twh02ljHv20"
   },
   "outputs": [],
   "source": [
    "# From https://pytorch.org/tutorials/beginner/transfer_learning_tutorial.html\n",
    "\n",
    "def train_autoencoder(model, dataloaders, dataset_sizes, criterion, optimizer, scheduler, num_epochs=25):\n",
    "    since = time.time()\n",
    "\n",
    "    best_model_wts = copy.deepcopy(model.state_dict()) # keep the best weights stored separately\n",
    "    best_loss = np.inf\n",
    "    best_epoch = 0\n",
    "\n",
    "    # Each epoch has a training, validation, and test phase\n",
    "    phases = ['train', 'val', 'test']\n",
    "\n",
    "    # Keep track of how loss evolves during training\n",
    "    training_curves = {}\n",
    "    for phase in phases:\n",
    "        training_curves[phase+'_loss'] = []\n",
    "\n",
    "    for epoch in range(num_epochs):\n",
    "        print(f'\\nEpoch {epoch+1}/{num_epochs}')\n",
    "        print('-' * 10)\n",
    "\n",
    "        for phase in phases:\n",
    "            if phase == 'train':\n",
    "                model.train()  # Set model to training mode\n",
    "            else:\n",
    "                model.eval()   # Set model to evaluate mode\n",
    "\n",
    "            running_loss = 0.0\n",
    "\n",
    "            # Iterate over data - for the autoencoder we don't care about the\n",
    "            # labels, we are training the input against itself!\n",
    "            for inputs, _ in dataloaders[phase]:\n",
    "                # Important! We need to flatten every datapoint to be\n",
    "                # compatible with our model!\n",
    "                # print(inputs.shape)\n",
    "                inputs = inputs.view(inputs.shape[0],-1)\n",
    "                inputs = inputs.to(device)\n",
    "                # our targets are the same as our inputs!\n",
    "                targets = inputs.to(device)\n",
    "                # print(inputs.shape)\n",
    "                # print(targets.shape)\n",
    "\n",
    "                # zero the parameter gradients\n",
    "                optimizer.zero_grad()\n",
    "\n",
    "                # forward\n",
    "                with torch.set_grad_enabled(phase == 'train'):\n",
    "                    outputs = model(inputs)\n",
    "                    # print(outputs.shape)\n",
    "                    loss = criterion(outputs, targets)\n",
    "\n",
    "                    # backward + update weights only if in training phase\n",
    "                    if phase == 'train':\n",
    "                        loss.backward()\n",
    "                        optimizer.step()\n",
    "\n",
    "                # statistics\n",
    "                running_loss += loss.item() * inputs.size(0)\n",
    "\n",
    "            if phase == 'train':\n",
    "                scheduler.step()\n",
    "\n",
    "            epoch_loss = running_loss / dataset_sizes[phase]\n",
    "            training_curves[phase+'_loss'].append(epoch_loss)\n",
    "\n",
    "            print(f'{phase:5} Loss: {epoch_loss:.4f}')\n",
    "\n",
    "            # deep copy the model if it's the best loss\n",
    "            if phase == 'val' and epoch_loss < best_loss:\n",
    "              best_epoch = epoch\n",
    "              best_loss = epoch_loss\n",
    "              best_model_wts = copy.deepcopy(model.state_dict())\n",
    "\n",
    "    time_elapsed = time.time() - since\n",
    "    print(f'\\nTraining complete in {time_elapsed // 60:.0f}m {time_elapsed % 60:.0f}s')\n",
    "    print(f'Best val Loss: {best_loss:4f} at epoch {best_epoch}')\n",
    "\n",
    "    # load best model weights\n",
    "    model.load_state_dict(best_model_wts)\n",
    "\n",
    "    return model, training_curves\n",
    "\n"
   ]
  },
  {
   "cell_type": "code",
   "execution_count": 9,
   "metadata": {
    "colab": {
     "base_uri": "https://localhost:8080/"
    },
    "id": "rW0ftQuVJCoC",
    "outputId": "4dada0db-82c4-4ab3-a9d7-10cdc9442098"
   },
   "outputs": [
    {
     "name": "stdout",
     "output_type": "stream",
     "text": [
      "\n",
      "Epoch 1/5\n",
      "----------\n",
      "train Loss: 0.3101\n",
      "val   Loss: 0.2269\n",
      "test  Loss: 0.2271\n",
      "\n",
      "Epoch 2/5\n",
      "----------\n",
      "train Loss: 0.1992\n",
      "val   Loss: 0.1849\n",
      "test  Loss: 0.1821\n",
      "\n",
      "Epoch 3/5\n",
      "----------\n",
      "train Loss: 0.1773\n",
      "val   Loss: 0.1676\n",
      "test  Loss: 0.1650\n",
      "\n",
      "Epoch 4/5\n",
      "----------\n",
      "train Loss: 0.1610\n",
      "val   Loss: 0.1575\n",
      "test  Loss: 0.1553\n",
      "\n",
      "Epoch 5/5\n",
      "----------\n",
      "train Loss: 0.1538\n",
      "val   Loss: 0.1519\n",
      "test  Loss: 0.1504\n",
      "\n",
      "Training complete in 0m 6s\n",
      "Best val Loss: 0.151946 at epoch 4\n"
     ]
    }
   ],
   "source": [
    "# loss and optimizer\n",
    "criterion = nn.MSELoss()\n",
    "optimizer = torch.optim.Adam(model.parameters(), lr=learning_rate)\n",
    "scheduler = torch.optim.lr_scheduler.ExponentialLR(optimizer, gamma=0.95)\n",
    "\n",
    "model, training_curves = train_autoencoder(model, dataloaders, dataset_sizes, criterion, optimizer, scheduler, num_epochs=num_epochs)"
   ]
  },
  {
   "cell_type": "markdown",
   "metadata": {
    "id": "ohkVE0Q93Xkp"
   },
   "source": [
    "### Visualizing the Latent Space Encoding\n",
    "\n",
    "Now that our autoencoder is trained, let's visualize the 2D latent space encoding for our different digits!"
   ]
  },
  {
   "cell_type": "code",
   "execution_count": 10,
   "metadata": {
    "id": "dmZiqWIVjyLN"
   },
   "outputs": [],
   "source": [
    "import matplotlib.pyplot as plt\n",
    "\n",
    "x = []\n",
    "label = []\n",
    "# random subset of test and grab x and y\n",
    "# plot in matplotlib\n",
    "for inputs, labels in dataloaders[\"test\"]:\n",
    "    inputs = inputs.view(inputs.shape[0],-1)\n",
    "    inputs = inputs.to(device)\n",
    "    for i, input in enumerate(inputs):\n",
    "        encoding = model.encode(input)\n",
    "        x.append(encoding.cpu().detach().numpy())\n",
    "        label.append(labels[i])\n",
    "\n",
    "def plot_dataset(x,y):\n",
    "    print(len(x))\n",
    "    print(len(y))\n",
    "    x_np = np.array(x)\n",
    "    x_np.reshape(len(x), 2)\n",
    "    colors = []\n",
    "    for label in y:\n",
    "        if label == 0:\n",
    "            colors.append(\"red\")\n",
    "        elif label == 1:\n",
    "            colors.append(\"blue\")\n",
    "        else:\n",
    "            colors.append(\"green\")\n",
    "    plt.scatter(x_np[...,0], x_np[...,1], color=colors)\n"
   ]
  },
  {
   "cell_type": "code",
   "execution_count": null,
   "metadata": {
    "colab": {
     "base_uri": "https://localhost:8080/",
     "height": 300
    },
    "id": "X26-uIUtAJ--",
    "outputId": "fe044cc1-0a9b-40c6-f712-1051084ffd09"
   },
   "outputs": [
    {
     "name": "stdout",
     "output_type": "stream",
     "text": [
      "3147\n",
      "3147\n"
     ]
    },
    {
     "data": {
      "image/png": "[encoded data removed]",
      "text/plain": [
       "<Figure size 432x288 with 1 Axes>"
      ]
     },
     "metadata": {
      "needs_background": "light"
     },
     "output_type": "display_data"
    }
   ],
   "source": [
    "plot_dataset(x,label)"
   ]
  },
  {
   "cell_type": "markdown",
   "metadata": {
    "id": "WtoEhG0ZyFbs"
   },
   "source": [
    "We can see here that our encoding does a great job of separating the different digit classes. There are 3 distinct clusters here for each of the digits 0, 1, and 2."
   ]
  },
  {
   "cell_type": "markdown",
   "metadata": {
    "id": "FQbGzjyQ2CuI"
   },
   "source": [
    "## Autoencoder on Entire MNIST Dataset\n",
    "\n",
    "Now that we have visualized what an autoencoder can do in latent space, we will build a deeper network and expand to the entire MNIST dataset.\n",
    "\n",
    "The training process will be exactly the same as before, our network will just contain more layers and a higher dimensional latent space to more accurately reproduce our input."
   ]
  },
  {
   "cell_type": "markdown",
   "metadata": {
    "id": "_cysyveo3oGf"
   },
   "source": [
    "### Dataset Preparation"
   ]
  },
  {
   "cell_type": "code",
   "execution_count": 11,
   "metadata": {
    "id": "LT7yQtgV8sqD"
   },
   "outputs": [],
   "source": [
    "# These transforms will be performed on every datapoint - in this example we want to transform every\n",
    "# datapoint to a Tensor datatype, and perform normalization\n",
    "transform = transforms.Compose([transforms.ToTensor(), transforms.Normalize([0.5], [0.5])])\n",
    "mnist_train = torchvision.datasets.MNIST('', train=True, transform =transform, download=True)\n",
    "\n",
    "# We will split out train dataset into train and validation!\n",
    "mnist_train, mnist_val = torch.utils.data.random_split(mnist_train, [int(np.floor(len(mnist_train)*0.75)), int(np.ceil(len(mnist_train)*0.25))])\n",
    "\n",
    "mnist_test = torchvision.datasets.MNIST('', train=False, transform = transform, download=True)"
   ]
  },
  {
   "cell_type": "code",
   "execution_count": 12,
   "metadata": {
    "colab": {
     "base_uri": "https://localhost:8080/"
    },
    "id": "-mzFjlq5861V",
    "outputId": "2b32189e-6a5d-48b9-9e6b-1fc79988bc73"
   },
   "outputs": [
    {
     "name": "stdout",
     "output_type": "stream",
     "text": [
      "dataset_sizes = {'train': 45000, 'val': 15000, 'test': 10000}\n"
     ]
    }
   ],
   "source": [
    "# We will create DataLoaders just like before with a batch size of 100\n",
    "batch_size = 100\n",
    "dataloaders = {'train': DataLoader(mnist_train, batch_size=batch_size),\n",
    "               'val': DataLoader(mnist_val, batch_size=batch_size),\n",
    "               'test': DataLoader(mnist_test, shuffle=True, batch_size=batch_size)}\n",
    "\n",
    "dataset_sizes = {'train': len(mnist_train),\n",
    "                 'val': len(mnist_val),\n",
    "                 'test': len(mnist_test)}\n",
    "print(f'dataset_sizes = {dataset_sizes}')"
   ]
  },
  {
   "cell_type": "markdown",
   "metadata": {
    "id": "9Rqh5oP23qzB"
   },
   "source": [
    "### Model Hyperparameters and Definition\n",
    "\n",
    "Here we are using a latent space with dimension 32. That will allow for a lot more information to be encoded which should lead to more accurate decoding."
   ]
  },
  {
   "cell_type": "code",
   "execution_count": 13,
   "metadata": {
    "id": "0uPzRJbP9A1_"
   },
   "outputs": [],
   "source": [
    "class AutoEncoder(nn.Module):\n",
    "    def __init__(self, input_size):\n",
    "        super(AutoEncoder, self).__init__()\n",
    "        ## Split the Encoder and Decoder\n",
    "        self.encoder = nn.Sequential(\n",
    "            nn.Linear(input_size, 256),\n",
    "            nn.ReLU(),\n",
    "            nn.Linear(256,32)\n",
    "        )\n",
    "\n",
    "        self.decoder = nn.Sequential(\n",
    "            nn.Linear(32, 256),\n",
    "            nn.ReLU(),\n",
    "            nn.Linear(256, input_size)\n",
    "        )\n",
    "\n",
    "    def forward(self, x):\n",
    "        return self.decoder(self.encoder(x))\n",
    "\n",
    "    def encode(self, x):\n",
    "        return self.encoder(x)\n",
    "\n"
   ]
  },
  {
   "cell_type": "code",
   "execution_count": 14,
   "metadata": {
    "id": "Bl-zukJm9-EW"
   },
   "outputs": [],
   "source": [
    "# hyperparameters\n",
    "\n",
    "input_size = 784 # flattening our dataset 28*28 = 784\n",
    "learning_rate = 0.001\n",
    "num_epochs = 10"
   ]
  },
  {
   "cell_type": "code",
   "execution_count": 15,
   "metadata": {
    "colab": {
     "base_uri": "https://localhost:8080/"
    },
    "id": "lGsIMCze-A3L",
    "outputId": "41741b5a-653e-4865-cfde-f7cd519ab2a1"
   },
   "outputs": [
    {
     "name": "stdout",
     "output_type": "stream",
     "text": [
      "AutoEncoder(\n",
      "  (encoder): Sequential(\n",
      "    (0): Linear(in_features=784, out_features=256, bias=True)\n",
      "    (1): ReLU()\n",
      "    (2): Linear(in_features=256, out_features=32, bias=True)\n",
      "  )\n",
      "  (decoder): Sequential(\n",
      "    (0): Linear(in_features=32, out_features=256, bias=True)\n",
      "    (1): ReLU()\n",
      "    (2): Linear(in_features=256, out_features=784, bias=True)\n",
      "  )\n",
      ")\n"
     ]
    }
   ],
   "source": [
    "model = AutoEncoder(input_size).to(device)\n",
    "print(model)"
   ]
  },
  {
   "cell_type": "markdown",
   "metadata": {
    "id": "ZFnEFQPL3tlp"
   },
   "source": [
    "### Training the Model\n",
    "\n",
    "We will actually use the exact same training function as above since we are still training an AutoEncoder! We have copied it below for your convience."
   ]
  },
  {
   "cell_type": "code",
   "execution_count": 18,
   "metadata": {
    "id": "IhLgq8Ws-Ltw"
   },
   "outputs": [],
   "source": [
    "# From https://pytorch.org/tutorials/beginner/transfer_learning_tutorial.html\n",
    "\n",
    "def train_autoencoder(model, dataloaders, dataset_sizes, criterion, optimizer, scheduler, num_epochs=25):\n",
    "    since = time.time()\n",
    "\n",
    "    best_model_wts = copy.deepcopy(model.state_dict()) # keep the best weights stored separately\n",
    "    best_loss = np.inf\n",
    "    best_epoch = 0\n",
    "\n",
    "    # Each epoch has a training, validation, and test phase\n",
    "    phases = ['train', 'val', 'test']\n",
    "\n",
    "    # Keep track of how loss evolves during training\n",
    "    training_curves = {}\n",
    "    for phase in phases:\n",
    "        training_curves[phase+'_loss'] = []\n",
    "\n",
    "    for epoch in range(num_epochs):\n",
    "        print(f'\\nEpoch {epoch+1}/{num_epochs}')\n",
    "        print('-' * 10)\n",
    "\n",
    "        for phase in phases:\n",
    "            if phase == 'train':\n",
    "                model.train()  # Set model to training mode\n",
    "            else:\n",
    "                model.eval()   # Set model to evaluate mode\n",
    "\n",
    "            running_loss = 0.0\n",
    "\n",
    "            # Iterate over data - for the autoencoder we don't care about the\n",
    "            # labels, we are training the input against itself!\n",
    "            for inputs, _ in dataloaders[phase]:\n",
    "                # Important! We need to flatten every datapoint to be\n",
    "                # compatible with our model!\n",
    "                inputs = inputs.view(inputs.shape[0],-1)\n",
    "                inputs = inputs.to(device)\n",
    "                # our targets are the same as our inputs!\n",
    "                targets = inputs.to(device)\n",
    "\n",
    "                # zero the parameter gradients\n",
    "                optimizer.zero_grad()\n",
    "\n",
    "                # forward\n",
    "                with torch.set_grad_enabled(phase == 'train'):\n",
    "                    outputs = model(inputs)\n",
    "                    loss = criterion(outputs, targets)\n",
    "\n",
    "                    # backward + update weights only if in training phase\n",
    "                    if phase == 'train':\n",
    "                        loss.backward()\n",
    "                        optimizer.step()\n",
    "\n",
    "                # statistics\n",
    "                running_loss += loss.item() * inputs.size(0)\n",
    "\n",
    "            if phase == 'train':\n",
    "                scheduler.step()\n",
    "\n",
    "            epoch_loss = running_loss / dataset_sizes[phase]\n",
    "            training_curves[phase+'_loss'].append(epoch_loss)\n",
    "\n",
    "            print(f'{phase:5} Loss: {epoch_loss:.4f}')\n",
    "\n",
    "            # deep copy the model if it's the best loss\n",
    "            if phase == 'val' and epoch_loss < best_loss:\n",
    "              best_epoch = epoch\n",
    "              best_loss = epoch_loss\n",
    "              best_model_wts = copy.deepcopy(model.state_dict())\n",
    "\n",
    "    time_elapsed = time.time() - since\n",
    "    print(f'\\nTraining complete in {time_elapsed // 60:.0f}m {time_elapsed % 60:.0f}s')\n",
    "    print(f'Best val Loss: {best_loss:4f} at epoch {best_epoch + 1}')\n",
    "\n",
    "    # load best model weights\n",
    "    model.load_state_dict(best_model_wts)\n",
    "\n",
    "    return model, training_curves\n",
    "\n"
   ]
  },
  {
   "cell_type": "code",
   "execution_count": 19,
   "metadata": {
    "colab": {
     "base_uri": "https://localhost:8080/"
    },
    "id": "3gFaNMsI-PWx",
    "outputId": "1c68c06d-6a2a-4e8f-b3c3-44c7af75fdbb"
   },
   "outputs": [
    {
     "name": "stdout",
     "output_type": "stream",
     "text": [
      "\n",
      "Epoch 1/10\n",
      "----------\n",
      "train Loss: 0.0492\n",
      "val   Loss: 0.0483\n",
      "test  Loss: 0.0470\n",
      "\n",
      "Epoch 2/10\n",
      "----------\n",
      "train Loss: 0.0475\n",
      "val   Loss: 0.0475\n",
      "test  Loss: 0.0463\n",
      "\n",
      "Epoch 3/10\n",
      "----------\n",
      "train Loss: 0.0467\n",
      "val   Loss: 0.0468\n",
      "test  Loss: 0.0456\n",
      "\n",
      "Epoch 4/10\n",
      "----------\n",
      "train Loss: 0.0459\n",
      "val   Loss: 0.0460\n",
      "test  Loss: 0.0448\n",
      "\n",
      "Epoch 5/10\n",
      "----------\n",
      "train Loss: 0.0452\n",
      "val   Loss: 0.0456\n",
      "test  Loss: 0.0444\n",
      "\n",
      "Epoch 6/10\n",
      "----------\n",
      "train Loss: 0.0446\n",
      "val   Loss: 0.0450\n",
      "test  Loss: 0.0438\n",
      "\n",
      "Epoch 7/10\n",
      "----------\n",
      "train Loss: 0.0441\n",
      "val   Loss: 0.0444\n",
      "test  Loss: 0.0433\n",
      "\n",
      "Epoch 8/10\n",
      "----------\n",
      "train Loss: 0.0436\n",
      "val   Loss: 0.0440\n",
      "test  Loss: 0.0428\n",
      "\n",
      "Epoch 9/10\n",
      "----------\n",
      "train Loss: 0.0432\n",
      "val   Loss: 0.0437\n",
      "test  Loss: 0.0425\n",
      "\n",
      "Epoch 10/10\n",
      "----------\n",
      "train Loss: 0.0428\n",
      "val   Loss: 0.0434\n",
      "test  Loss: 0.0423\n",
      "\n",
      "Training complete in 0m 42s\n",
      "Best val Loss: 0.043406 at epoch 10\n"
     ]
    }
   ],
   "source": [
    "# loss and optimizer\n",
    "criterion = nn.MSELoss()\n",
    "optimizer = torch.optim.Adam(model.parameters(), lr=learning_rate)\n",
    "scheduler = torch.optim.lr_scheduler.ExponentialLR(optimizer, gamma=0.95)\n",
    "\n",
    "model, training_curves = train_autoencoder(model, dataloaders, dataset_sizes, criterion, optimizer, scheduler, num_epochs=num_epochs)"
   ]
  },
  {
   "cell_type": "markdown",
   "metadata": {
    "id": "r0GSra0P3u6C"
   },
   "source": [
    "### Visualizing the Results\n",
    "\n",
    "Now that our model is trained we want to visualize the results of our AutoEncoder!\n",
    "\n",
    "We have provided a function below that will display the input and the autoencoding of a specified digit. Try running it for different digits and seeing which ones look closest to each other!"
   ]
  },
  {
   "cell_type": "code",
   "execution_count": 21,
   "metadata": {
    "id": "5KoS-edakvws"
   },
   "outputs": [],
   "source": [
    "import matplotlib.pyplot as plt\n",
    "\n",
    "# plot a digit ground truth and autoencoding\n",
    "def plot_digit(digit, count = 1):\n",
    "    fig = plt.figure()\n",
    "    idx = 1\n",
    "    for inputs, labels in dataloaders[\"test\"]:\n",
    "        # Flatten dataset so the dimensions line up with our model\n",
    "        inputs = inputs.view(inputs.shape[0],-1)\n",
    "        inputs = inputs.to(device)\n",
    "        for i, input in enumerate(inputs):\n",
    "            # We only want to display a certain digit\n",
    "            if (labels[i] != digit):\n",
    "                continue\n",
    "            # run the autoencoder\n",
    "            autoencoding = model.forward(input)\n",
    "            # move back to the cpu()\n",
    "            autoencoding = autoencoding.cpu().detach().numpy()\n",
    "            # reshape to an image\n",
    "            autoencoding = autoencoding.reshape((28,28))\n",
    "            input = input.cpu().detach().numpy().reshape((28,28))\n",
    "            # plot the ground truth\n",
    "            ax = fig.add_subplot(2, count, idx)\n",
    "            ax.imshow(input, cmap='gray')\n",
    "            # plot the autoencoding\n",
    "            ax = fig.add_subplot(2, count, idx+count)\n",
    "            ax.imshow(autoencoding, cmap='gray')\n",
    "            idx += 1\n",
    "            if idx > count:\n",
    "                break\n",
    "        if idx > count:\n",
    "            break"
   ]
  },
  {
   "cell_type": "code",
   "execution_count": 22,
   "metadata": {
    "colab": {
     "base_uri": "https://localhost:8080/",
     "height": 242
    },
    "id": "omQ_sUf6Ag_U",
    "outputId": "70ef316e-8ff6-4032-d804-7bf7db294d2c"
   },
   "outputs": [
    {
     "data": {
      "image/png": "[encoded data removed]",
      "text/plain": [
       "<Figure size 640x480 with 8 Axes>"
      ]
     },
     "metadata": {},
     "output_type": "display_data"
    }
   ],
   "source": [
    "plot_digit(3, 4)"
   ]
  },
  {
   "cell_type": "markdown",
   "metadata": {
    "id": "zn1qo3ibTfyH"
   },
   "source": [
    "Looking at the output of our autoencoder above, we can see that a latent space of dimension 32 does a great job at storing enough information to make a good reconstruction!"
   ]
  },
  {
   "cell_type": "markdown",
   "metadata": {
    "id": "cF8bn7bDt6wd"
   },
   "source": [
    "## Looking Ahead\n",
    "\n",
    "Up until this point we have been taking our MNIST images and flattening them into 1D arrays. Although we are still able to get some great results, we are losing out of a lot of spatial features that are available to us in 2D. In order to leverage these features, we will introduce a new layer to our neural networks, Convolutional Layers."
   ]
  }
 ],
 "metadata": {
  "accelerator": "GPU",
  "colab": {
   "include_colab_link": true,
   "provenance": [],
   "toc_visible": true
  },
  "kernelspec": {
   "display_name": "Python 3 (ipykernel)",
   "language": "python",
   "name": "python3"
  },
  "language_info": {
   "codemirror_mode": {
    "name": "ipython",
    "version": 3
   },
   "file_extension": ".py",
   "mimetype": "text/x-python",
   "name": "python",
   "nbconvert_exporter": "python",
   "pygments_lexer": "ipython3",
   "version": "3.13.5"
  },
  "widgets": {
   "application/vnd.jupyter.widget-state+json": {
    "0041f2b533e74cbe919559f715b9bfd5": {
     "model_module": "@jupyter-widgets/base",
     "model_module_version": "1.2.0",
     "model_name": "LayoutModel",
     "state": {
      "_model_module": "@jupyter-widgets/base",
      "_model_module_version": "1.2.0",
      "_model_name": "LayoutModel",
      "_view_count": null,
      "_view_module": "@jupyter-widgets/base",
      "_view_module_version": "1.2.0",
      "_view_name": "LayoutView",
      "align_content": null,
      "align_items": null,
      "align_self": null,
      "border": null,
      "bottom": null,
      "display": null,
      "flex": null,
      "flex_flow": null,
      "grid_area": null,
      "grid_auto_columns": null,
      "grid_auto_flow": null,
      "grid_auto_rows": null,
      "grid_column": null,
      "grid_gap": null,
      "grid_row": null,
      "grid_template_areas": null,
      "grid_template_columns": null,
      "grid_template_rows": null,
      "height": null,
      "justify_content": null,
      "justify_items": null,
      "left": null,
      "margin": null,
      "max_height": null,
      "max_width": null,
      "min_height": null,
      "min_width": null,
      "object_fit": null,
      "object_position": null,
      "order": null,
      "overflow": null,
      "overflow_x": null,
      "overflow_y": null,
      "padding": null,
      "right": null,
      "top": null,
      "visibility": null,
      "width": null
     }
    },
    "0242af46428846ddbbbbd641df8f10ce": {
     "model_module": "@jupyter-widgets/controls",
     "model_module_version": "1.5.0",
     "model_name": "HBoxModel",
     "state": {
      "_dom_classes": [],
      "_model_module": "@jupyter-widgets/controls",
      "_model_module_version": "1.5.0",
      "_model_name": "HBoxModel",
      "_view_count": null,
      "_view_module": "@jupyter-widgets/controls",
      "_view_module_version": "1.5.0",
      "_view_name": "HBoxView",
      "box_style": "",
      "children": [
       "IPY_MODEL_05c7f0a0bbc84e478eecfd102295211d",
       "IPY_MODEL_2cd8342a4251429199a6f099a0219be4",
       "IPY_MODEL_f1a65fa4e21e48349d85da6db26df1c4"
      ],
      "layout": "IPY_MODEL_5c2ef9a2cc9e4189a20f70559e967974"
     }
    },
    "05c7f0a0bbc84e478eecfd102295211d": {
     "model_module": "@jupyter-widgets/controls",
     "model_module_version": "1.5.0",
     "model_name": "HTMLModel",
     "state": {
      "_dom_classes": [],
      "_model_module": "@jupyter-widgets/controls",
      "_model_module_version": "1.5.0",
      "_model_name": "HTMLModel",
      "_view_count": null,
      "_view_module": "@jupyter-widgets/controls",
      "_view_module_version": "1.5.0",
      "_view_name": "HTMLView",
      "description": "",
      "description_tooltip": null,
      "layout": "IPY_MODEL_8ac1258fb0a44bd29269b5afba0c7614",
      "placeholder": "​",
      "style": "IPY_MODEL_eda0f89ab9ee4ef0843f6436ef133221",
      "value": "100%"
     }
    },
    "25b54c7509bf4e6a9a14b00d2faf1525": {
     "model_module": "@jupyter-widgets/base",
     "model_module_version": "1.2.0",
     "model_name": "LayoutModel",
     "state": {
      "_model_module": "@jupyter-widgets/base",
      "_model_module_version": "1.2.0",
      "_model_name": "LayoutModel",
      "_view_count": null,
      "_view_module": "@jupyter-widgets/base",
      "_view_module_version": "1.2.0",
      "_view_name": "LayoutView",
      "align_content": null,
      "align_items": null,
      "align_self": null,
      "border": null,
      "bottom": null,
      "display": null,
      "flex": null,
      "flex_flow": null,
      "grid_area": null,
      "grid_auto_columns": null,
      "grid_auto_flow": null,
      "grid_auto_rows": null,
      "grid_column": null,
      "grid_gap": null,
      "grid_row": null,
      "grid_template_areas": null,
      "grid_template_columns": null,
      "grid_template_rows": null,
      "height": null,
      "justify_content": null,
      "justify_items": null,
      "left": null,
      "margin": null,
      "max_height": null,
      "max_width": null,
      "min_height": null,
      "min_width": null,
      "object_fit": null,
      "object_position": null,
      "order": null,
      "overflow": null,
      "overflow_x": null,
      "overflow_y": null,
      "padding": null,
      "right": null,
      "top": null,
      "visibility": null,
      "width": null
     }
    },
    "263381ade6b54cdfb7d1fb27fa011df3": {
     "model_module": "@jupyter-widgets/controls",
     "model_module_version": "1.5.0",
     "model_name": "DescriptionStyleModel",
     "state": {
      "_model_module": "@jupyter-widgets/controls",
      "_model_module_version": "1.5.0",
      "_model_name": "DescriptionStyleModel",
      "_view_count": null,
      "_view_module": "@jupyter-widgets/base",
      "_view_module_version": "1.2.0",
      "_view_name": "StyleView",
      "description_width": ""
     }
    },
    "2cd8342a4251429199a6f099a0219be4": {
     "model_module": "@jupyter-widgets/controls",
     "model_module_version": "1.5.0",
     "model_name": "FloatProgressModel",
     "state": {
      "_dom_classes": [],
      "_model_module": "@jupyter-widgets/controls",
      "_model_module_version": "1.5.0",
      "_model_name": "FloatProgressModel",
      "_view_count": null,
      "_view_module": "@jupyter-widgets/controls",
      "_view_module_version": "1.5.0",
      "_view_name": "ProgressView",
      "bar_style": "success",
      "description": "",
      "description_tooltip": null,
      "layout": "IPY_MODEL_e28b0e4ee60348278f4495c8a64dfbe6",
      "max": 4542,
      "min": 0,
      "orientation": "horizontal",
      "style": "IPY_MODEL_9810a7af1bcf424cb5764270374aa680",
      "value": 4542
     }
    },
    "2e6f5363febd4a15b167a45dfb973996": {
     "model_module": "@jupyter-widgets/base",
     "model_module_version": "1.2.0",
     "model_name": "LayoutModel",
     "state": {
      "_model_module": "@jupyter-widgets/base",
      "_model_module_version": "1.2.0",
      "_model_name": "LayoutModel",
      "_view_count": null,
      "_view_module": "@jupyter-widgets/base",
      "_view_module_version": "1.2.0",
      "_view_name": "LayoutView",
      "align_content": null,
      "align_items": null,
      "align_self": null,
      "border": null,
      "bottom": null,
      "display": null,
      "flex": null,
      "flex_flow": null,
      "grid_area": null,
      "grid_auto_columns": null,
      "grid_auto_flow": null,
      "grid_auto_rows": null,
      "grid_column": null,
      "grid_gap": null,
      "grid_row": null,
      "grid_template_areas": null,
      "grid_template_columns": null,
      "grid_template_rows": null,
      "height": null,
      "justify_content": null,
      "justify_items": null,
      "left": null,
      "margin": null,
      "max_height": null,
      "max_width": null,
      "min_height": null,
      "min_width": null,
      "object_fit": null,
      "object_position": null,
      "order": null,
      "overflow": null,
      "overflow_x": null,
      "overflow_y": null,
      "padding": null,
      "right": null,
      "top": null,
      "visibility": null,
      "width": null
     }
    },
    "35797fd014784ae4b98324678410667e": {
     "model_module": "@jupyter-widgets/controls",
     "model_module_version": "1.5.0",
     "model_name": "HBoxModel",
     "state": {
      "_dom_classes": [],
      "_model_module": "@jupyter-widgets/controls",
      "_model_module_version": "1.5.0",
      "_model_name": "HBoxModel",
      "_view_count": null,
      "_view_module": "@jupyter-widgets/controls",
      "_view_module_version": "1.5.0",
      "_view_name": "HBoxView",
      "box_style": "",
      "children": [
       "IPY_MODEL_39384b61a1e240d8a1507745425bd647",
       "IPY_MODEL_9b02f00fe5254cb391654b48e2238694",
       "IPY_MODEL_bb5b67550a2449d3a13968714722c12d"
      ],
      "layout": "IPY_MODEL_72ae47288111494ea17211a148aa210a"
     }
    },
    "3689848f88144c9fae1a4679a2d2b285": {
     "model_module": "@jupyter-widgets/base",
     "model_module_version": "1.2.0",
     "model_name": "LayoutModel",
     "state": {
      "_model_module": "@jupyter-widgets/base",
      "_model_module_version": "1.2.0",
      "_model_name": "LayoutModel",
      "_view_count": null,
      "_view_module": "@jupyter-widgets/base",
      "_view_module_version": "1.2.0",
      "_view_name": "LayoutView",
      "align_content": null,
      "align_items": null,
      "align_self": null,
      "border": null,
      "bottom": null,
      "display": null,
      "flex": null,
      "flex_flow": null,
      "grid_area": null,
      "grid_auto_columns": null,
      "grid_auto_flow": null,
      "grid_auto_rows": null,
      "grid_column": null,
      "grid_gap": null,
      "grid_row": null,
      "grid_template_areas": null,
      "grid_template_columns": null,
      "grid_template_rows": null,
      "height": null,
      "justify_content": null,
      "justify_items": null,
      "left": null,
      "margin": null,
      "max_height": null,
      "max_width": null,
      "min_height": null,
      "min_width": null,
      "object_fit": null,
      "object_position": null,
      "order": null,
      "overflow": null,
      "overflow_x": null,
      "overflow_y": null,
      "padding": null,
      "right": null,
      "top": null,
      "visibility": null,
      "width": null
     }
    },
    "39384b61a1e240d8a1507745425bd647": {
     "model_module": "@jupyter-widgets/controls",
     "model_module_version": "1.5.0",
     "model_name": "HTMLModel",
     "state": {
      "_dom_classes": [],
      "_model_module": "@jupyter-widgets/controls",
      "_model_module_version": "1.5.0",
      "_model_name": "HTMLModel",
      "_view_count": null,
      "_view_module": "@jupyter-widgets/controls",
      "_view_module_version": "1.5.0",
      "_view_name": "HTMLView",
      "description": "",
      "description_tooltip": null,
      "layout": "IPY_MODEL_50580fbe2650405f8aa2462474e6bbc7",
      "placeholder": "​",
      "style": "IPY_MODEL_8591915be24b41509fb51b4695f9ecf1",
      "value": "100%"
     }
    },
    "3e4abfc234874050a17ad30215f695ef": {
     "model_module": "@jupyter-widgets/base",
     "model_module_version": "1.2.0",
     "model_name": "LayoutModel",
     "state": {
      "_model_module": "@jupyter-widgets/base",
      "_model_module_version": "1.2.0",
      "_model_name": "LayoutModel",
      "_view_count": null,
      "_view_module": "@jupyter-widgets/base",
      "_view_module_version": "1.2.0",
      "_view_name": "LayoutView",
      "align_content": null,
      "align_items": null,
      "align_self": null,
      "border": null,
      "bottom": null,
      "display": null,
      "flex": null,
      "flex_flow": null,
      "grid_area": null,
      "grid_auto_columns": null,
      "grid_auto_flow": null,
      "grid_auto_rows": null,
      "grid_column": null,
      "grid_gap": null,
      "grid_row": null,
      "grid_template_areas": null,
      "grid_template_columns": null,
      "grid_template_rows": null,
      "height": null,
      "justify_content": null,
      "justify_items": null,
      "left": null,
      "margin": null,
      "max_height": null,
      "max_width": null,
      "min_height": null,
      "min_width": null,
      "object_fit": null,
      "object_position": null,
      "order": null,
      "overflow": null,
      "overflow_x": null,
      "overflow_y": null,
      "padding": null,
      "right": null,
      "top": null,
      "visibility": null,
      "width": null
     }
    },
    "49382eca3f1b40999d91c6b24dfbc3f2": {
     "model_module": "@jupyter-widgets/controls",
     "model_module_version": "1.5.0",
     "model_name": "HBoxModel",
     "state": {
      "_dom_classes": [],
      "_model_module": "@jupyter-widgets/controls",
      "_model_module_version": "1.5.0",
      "_model_name": "HBoxModel",
      "_view_count": null,
      "_view_module": "@jupyter-widgets/controls",
      "_view_module_version": "1.5.0",
      "_view_name": "HBoxView",
      "box_style": "",
      "children": [
       "IPY_MODEL_94a05bc95a1c448689a1c570ee3e06e1",
       "IPY_MODEL_611f258f116b4588b1657c7a78d52710",
       "IPY_MODEL_d1decfa2fa8846f7a0dd006db576814d"
      ],
      "layout": "IPY_MODEL_8e3dff713e6b4ead80f2a484044eade0"
     }
    },
    "50580fbe2650405f8aa2462474e6bbc7": {
     "model_module": "@jupyter-widgets/base",
     "model_module_version": "1.2.0",
     "model_name": "LayoutModel",
     "state": {
      "_model_module": "@jupyter-widgets/base",
      "_model_module_version": "1.2.0",
      "_model_name": "LayoutModel",
      "_view_count": null,
      "_view_module": "@jupyter-widgets/base",
      "_view_module_version": "1.2.0",
      "_view_name": "LayoutView",
      "align_content": null,
      "align_items": null,
      "align_self": null,
      "border": null,
      "bottom": null,
      "display": null,
      "flex": null,
      "flex_flow": null,
      "grid_area": null,
      "grid_auto_columns": null,
      "grid_auto_flow": null,
      "grid_auto_rows": null,
      "grid_column": null,
      "grid_gap": null,
      "grid_row": null,
      "grid_template_areas": null,
      "grid_template_columns": null,
      "grid_template_rows": null,
      "height": null,
      "justify_content": null,
      "justify_items": null,
      "left": null,
      "margin": null,
      "max_height": null,
      "max_width": null,
      "min_height": null,
      "min_width": null,
      "object_fit": null,
      "object_position": null,
      "order": null,
      "overflow": null,
      "overflow_x": null,
      "overflow_y": null,
      "padding": null,
      "right": null,
      "top": null,
      "visibility": null,
      "width": null
     }
    },
    "5650092986fd42eebf38c049968847f9": {
     "model_module": "@jupyter-widgets/controls",
     "model_module_version": "1.5.0",
     "model_name": "HBoxModel",
     "state": {
      "_dom_classes": [],
      "_model_module": "@jupyter-widgets/controls",
      "_model_module_version": "1.5.0",
      "_model_name": "HBoxModel",
      "_view_count": null,
      "_view_module": "@jupyter-widgets/controls",
      "_view_module_version": "1.5.0",
      "_view_name": "HBoxView",
      "box_style": "",
      "children": [
       "IPY_MODEL_b5d1c79c99a9406899e0a4b363f15609",
       "IPY_MODEL_73a3e57e240646d88fb3f4f38b941ae6",
       "IPY_MODEL_90cddfec11a94f8ea24415d788ca6284"
      ],
      "layout": "IPY_MODEL_f8b2d20259ab41f4a255b9d135cc9fde"
     }
    },
    "5c2ef9a2cc9e4189a20f70559e967974": {
     "model_module": "@jupyter-widgets/base",
     "model_module_version": "1.2.0",
     "model_name": "LayoutModel",
     "state": {
      "_model_module": "@jupyter-widgets/base",
      "_model_module_version": "1.2.0",
      "_model_name": "LayoutModel",
      "_view_count": null,
      "_view_module": "@jupyter-widgets/base",
      "_view_module_version": "1.2.0",
      "_view_name": "LayoutView",
      "align_content": null,
      "align_items": null,
      "align_self": null,
      "border": null,
      "bottom": null,
      "display": null,
      "flex": null,
      "flex_flow": null,
      "grid_area": null,
      "grid_auto_columns": null,
      "grid_auto_flow": null,
      "grid_auto_rows": null,
      "grid_column": null,
      "grid_gap": null,
      "grid_row": null,
      "grid_template_areas": null,
      "grid_template_columns": null,
      "grid_template_rows": null,
      "height": null,
      "justify_content": null,
      "justify_items": null,
      "left": null,
      "margin": null,
      "max_height": null,
      "max_width": null,
      "min_height": null,
      "min_width": null,
      "object_fit": null,
      "object_position": null,
      "order": null,
      "overflow": null,
      "overflow_x": null,
      "overflow_y": null,
      "padding": null,
      "right": null,
      "top": null,
      "visibility": null,
      "width": null
     }
    },
    "611f258f116b4588b1657c7a78d52710": {
     "model_module": "@jupyter-widgets/controls",
     "model_module_version": "1.5.0",
     "model_name": "FloatProgressModel",
     "state": {
      "_dom_classes": [],
      "_model_module": "@jupyter-widgets/controls",
      "_model_module_version": "1.5.0",
      "_model_name": "FloatProgressModel",
      "_view_count": null,
      "_view_module": "@jupyter-widgets/controls",
      "_view_module_version": "1.5.0",
      "_view_name": "ProgressView",
      "bar_style": "success",
      "description": "",
      "description_tooltip": null,
      "layout": "IPY_MODEL_99621d36591549b79b19039d631edba7",
      "max": 1648877,
      "min": 0,
      "orientation": "horizontal",
      "style": "IPY_MODEL_f92f33f64a3a4dc288c09496f1009bef",
      "value": 1648877
     }
    },
    "62e3ed58cba04b9cb6d15f2c1d73b593": {
     "model_module": "@jupyter-widgets/controls",
     "model_module_version": "1.5.0",
     "model_name": "ProgressStyleModel",
     "state": {
      "_model_module": "@jupyter-widgets/controls",
      "_model_module_version": "1.5.0",
      "_model_name": "ProgressStyleModel",
      "_view_count": null,
      "_view_module": "@jupyter-widgets/base",
      "_view_module_version": "1.2.0",
      "_view_name": "StyleView",
      "bar_color": null,
      "description_width": ""
     }
    },
    "65e97ccfbd864fdab4f96b6103bb79a8": {
     "model_module": "@jupyter-widgets/controls",
     "model_module_version": "1.5.0",
     "model_name": "ProgressStyleModel",
     "state": {
      "_model_module": "@jupyter-widgets/controls",
      "_model_module_version": "1.5.0",
      "_model_name": "ProgressStyleModel",
      "_view_count": null,
      "_view_module": "@jupyter-widgets/base",
      "_view_module_version": "1.2.0",
      "_view_name": "StyleView",
      "bar_color": null,
      "description_width": ""
     }
    },
    "72ae47288111494ea17211a148aa210a": {
     "model_module": "@jupyter-widgets/base",
     "model_module_version": "1.2.0",
     "model_name": "LayoutModel",
     "state": {
      "_model_module": "@jupyter-widgets/base",
      "_model_module_version": "1.2.0",
      "_model_name": "LayoutModel",
      "_view_count": null,
      "_view_module": "@jupyter-widgets/base",
      "_view_module_version": "1.2.0",
      "_view_name": "LayoutView",
      "align_content": null,
      "align_items": null,
      "align_self": null,
      "border": null,
      "bottom": null,
      "display": null,
      "flex": null,
      "flex_flow": null,
      "grid_area": null,
      "grid_auto_columns": null,
      "grid_auto_flow": null,
      "grid_auto_rows": null,
      "grid_column": null,
      "grid_gap": null,
      "grid_row": null,
      "grid_template_areas": null,
      "grid_template_columns": null,
      "grid_template_rows": null,
      "height": null,
      "justify_content": null,
      "justify_items": null,
      "left": null,
      "margin": null,
      "max_height": null,
      "max_width": null,
      "min_height": null,
      "min_width": null,
      "object_fit": null,
      "object_position": null,
      "order": null,
      "overflow": null,
      "overflow_x": null,
      "overflow_y": null,
      "padding": null,
      "right": null,
      "top": null,
      "visibility": null,
      "width": null
     }
    },
    "73a3e57e240646d88fb3f4f38b941ae6": {
     "model_module": "@jupyter-widgets/controls",
     "model_module_version": "1.5.0",
     "model_name": "FloatProgressModel",
     "state": {
      "_dom_classes": [],
      "_model_module": "@jupyter-widgets/controls",
      "_model_module_version": "1.5.0",
      "_model_name": "FloatProgressModel",
      "_view_count": null,
      "_view_module": "@jupyter-widgets/controls",
      "_view_module_version": "1.5.0",
      "_view_name": "ProgressView",
      "bar_style": "success",
      "description": "",
      "description_tooltip": null,
      "layout": "IPY_MODEL_be45cf15bb8248f397c7e12b9b5eee70",
      "max": 28881,
      "min": 0,
      "orientation": "horizontal",
      "style": "IPY_MODEL_65e97ccfbd864fdab4f96b6103bb79a8",
      "value": 28881
     }
    },
    "73d66f6df7f24be48c8d357ddc2ab6bb": {
     "model_module": "@jupyter-widgets/controls",
     "model_module_version": "1.5.0",
     "model_name": "DescriptionStyleModel",
     "state": {
      "_model_module": "@jupyter-widgets/controls",
      "_model_module_version": "1.5.0",
      "_model_name": "DescriptionStyleModel",
      "_view_count": null,
      "_view_module": "@jupyter-widgets/base",
      "_view_module_version": "1.2.0",
      "_view_name": "StyleView",
      "description_width": ""
     }
    },
    "7ed918036dc94d789643efbac17979d3": {
     "model_module": "@jupyter-widgets/controls",
     "model_module_version": "1.5.0",
     "model_name": "DescriptionStyleModel",
     "state": {
      "_model_module": "@jupyter-widgets/controls",
      "_model_module_version": "1.5.0",
      "_model_name": "DescriptionStyleModel",
      "_view_count": null,
      "_view_module": "@jupyter-widgets/base",
      "_view_module_version": "1.2.0",
      "_view_name": "StyleView",
      "description_width": ""
     }
    },
    "8591915be24b41509fb51b4695f9ecf1": {
     "model_module": "@jupyter-widgets/controls",
     "model_module_version": "1.5.0",
     "model_name": "DescriptionStyleModel",
     "state": {
      "_model_module": "@jupyter-widgets/controls",
      "_model_module_version": "1.5.0",
      "_model_name": "DescriptionStyleModel",
      "_view_count": null,
      "_view_module": "@jupyter-widgets/base",
      "_view_module_version": "1.2.0",
      "_view_name": "StyleView",
      "description_width": ""
     }
    },
    "8ac1258fb0a44bd29269b5afba0c7614": {
     "model_module": "@jupyter-widgets/base",
     "model_module_version": "1.2.0",
     "model_name": "LayoutModel",
     "state": {
      "_model_module": "@jupyter-widgets/base",
      "_model_module_version": "1.2.0",
      "_model_name": "LayoutModel",
      "_view_count": null,
      "_view_module": "@jupyter-widgets/base",
      "_view_module_version": "1.2.0",
      "_view_name": "LayoutView",
      "align_content": null,
      "align_items": null,
      "align_self": null,
      "border": null,
      "bottom": null,
      "display": null,
      "flex": null,
      "flex_flow": null,
      "grid_area": null,
      "grid_auto_columns": null,
      "grid_auto_flow": null,
      "grid_auto_rows": null,
      "grid_column": null,
      "grid_gap": null,
      "grid_row": null,
      "grid_template_areas": null,
      "grid_template_columns": null,
      "grid_template_rows": null,
      "height": null,
      "justify_content": null,
      "justify_items": null,
      "left": null,
      "margin": null,
      "max_height": null,
      "max_width": null,
      "min_height": null,
      "min_width": null,
      "object_fit": null,
      "object_position": null,
      "order": null,
      "overflow": null,
      "overflow_x": null,
      "overflow_y": null,
      "padding": null,
      "right": null,
      "top": null,
      "visibility": null,
      "width": null
     }
    },
    "8e3dff713e6b4ead80f2a484044eade0": {
     "model_module": "@jupyter-widgets/base",
     "model_module_version": "1.2.0",
     "model_name": "LayoutModel",
     "state": {
      "_model_module": "@jupyter-widgets/base",
      "_model_module_version": "1.2.0",
      "_model_name": "LayoutModel",
      "_view_count": null,
      "_view_module": "@jupyter-widgets/base",
      "_view_module_version": "1.2.0",
      "_view_name": "LayoutView",
      "align_content": null,
      "align_items": null,
      "align_self": null,
      "border": null,
      "bottom": null,
      "display": null,
      "flex": null,
      "flex_flow": null,
      "grid_area": null,
      "grid_auto_columns": null,
      "grid_auto_flow": null,
      "grid_auto_rows": null,
      "grid_column": null,
      "grid_gap": null,
      "grid_row": null,
      "grid_template_areas": null,
      "grid_template_columns": null,
      "grid_template_rows": null,
      "height": null,
      "justify_content": null,
      "justify_items": null,
      "left": null,
      "margin": null,
      "max_height": null,
      "max_width": null,
      "min_height": null,
      "min_width": null,
      "object_fit": null,
      "object_position": null,
      "order": null,
      "overflow": null,
      "overflow_x": null,
      "overflow_y": null,
      "padding": null,
      "right": null,
      "top": null,
      "visibility": null,
      "width": null
     }
    },
    "90cddfec11a94f8ea24415d788ca6284": {
     "model_module": "@jupyter-widgets/controls",
     "model_module_version": "1.5.0",
     "model_name": "HTMLModel",
     "state": {
      "_dom_classes": [],
      "_model_module": "@jupyter-widgets/controls",
      "_model_module_version": "1.5.0",
      "_model_name": "HTMLModel",
      "_view_count": null,
      "_view_module": "@jupyter-widgets/controls",
      "_view_module_version": "1.5.0",
      "_view_name": "HTMLView",
      "description": "",
      "description_tooltip": null,
      "layout": "IPY_MODEL_b10a2b5322f3414383407ae5654e597e",
      "placeholder": "​",
      "style": "IPY_MODEL_fbb7f2f6b86d434fb01e804d713c59bd",
      "value": " 28881/28881 [00:00&lt;00:00, 391950.06it/s]"
     }
    },
    "94a05bc95a1c448689a1c570ee3e06e1": {
     "model_module": "@jupyter-widgets/controls",
     "model_module_version": "1.5.0",
     "model_name": "HTMLModel",
     "state": {
      "_dom_classes": [],
      "_model_module": "@jupyter-widgets/controls",
      "_model_module_version": "1.5.0",
      "_model_name": "HTMLModel",
      "_view_count": null,
      "_view_module": "@jupyter-widgets/controls",
      "_view_module_version": "1.5.0",
      "_view_name": "HTMLView",
      "description": "",
      "description_tooltip": null,
      "layout": "IPY_MODEL_25b54c7509bf4e6a9a14b00d2faf1525",
      "placeholder": "​",
      "style": "IPY_MODEL_e70a8735083b4c1ca2abebad798c905d",
      "value": "100%"
     }
    },
    "9810a7af1bcf424cb5764270374aa680": {
     "model_module": "@jupyter-widgets/controls",
     "model_module_version": "1.5.0",
     "model_name": "ProgressStyleModel",
     "state": {
      "_model_module": "@jupyter-widgets/controls",
      "_model_module_version": "1.5.0",
      "_model_name": "ProgressStyleModel",
      "_view_count": null,
      "_view_module": "@jupyter-widgets/base",
      "_view_module_version": "1.2.0",
      "_view_name": "StyleView",
      "bar_color": null,
      "description_width": ""
     }
    },
    "99621d36591549b79b19039d631edba7": {
     "model_module": "@jupyter-widgets/base",
     "model_module_version": "1.2.0",
     "model_name": "LayoutModel",
     "state": {
      "_model_module": "@jupyter-widgets/base",
      "_model_module_version": "1.2.0",
      "_model_name": "LayoutModel",
      "_view_count": null,
      "_view_module": "@jupyter-widgets/base",
      "_view_module_version": "1.2.0",
      "_view_name": "LayoutView",
      "align_content": null,
      "align_items": null,
      "align_self": null,
      "border": null,
      "bottom": null,
      "display": null,
      "flex": null,
      "flex_flow": null,
      "grid_area": null,
      "grid_auto_columns": null,
      "grid_auto_flow": null,
      "grid_auto_rows": null,
      "grid_column": null,
      "grid_gap": null,
      "grid_row": null,
      "grid_template_areas": null,
      "grid_template_columns": null,
      "grid_template_rows": null,
      "height": null,
      "justify_content": null,
      "justify_items": null,
      "left": null,
      "margin": null,
      "max_height": null,
      "max_width": null,
      "min_height": null,
      "min_width": null,
      "object_fit": null,
      "object_position": null,
      "order": null,
      "overflow": null,
      "overflow_x": null,
      "overflow_y": null,
      "padding": null,
      "right": null,
      "top": null,
      "visibility": null,
      "width": null
     }
    },
    "9b02f00fe5254cb391654b48e2238694": {
     "model_module": "@jupyter-widgets/controls",
     "model_module_version": "1.5.0",
     "model_name": "FloatProgressModel",
     "state": {
      "_dom_classes": [],
      "_model_module": "@jupyter-widgets/controls",
      "_model_module_version": "1.5.0",
      "_model_name": "FloatProgressModel",
      "_view_count": null,
      "_view_module": "@jupyter-widgets/controls",
      "_view_module_version": "1.5.0",
      "_view_name": "ProgressView",
      "bar_style": "success",
      "description": "",
      "description_tooltip": null,
      "layout": "IPY_MODEL_cffc82668cec4f7d8efe93c5a05fb7ad",
      "max": 9912422,
      "min": 0,
      "orientation": "horizontal",
      "style": "IPY_MODEL_62e3ed58cba04b9cb6d15f2c1d73b593",
      "value": 9912422
     }
    },
    "a7cdc83ddb6444e1b0cb870181cbad86": {
     "model_module": "@jupyter-widgets/controls",
     "model_module_version": "1.5.0",
     "model_name": "DescriptionStyleModel",
     "state": {
      "_model_module": "@jupyter-widgets/controls",
      "_model_module_version": "1.5.0",
      "_model_name": "DescriptionStyleModel",
      "_view_count": null,
      "_view_module": "@jupyter-widgets/base",
      "_view_module_version": "1.2.0",
      "_view_name": "StyleView",
      "description_width": ""
     }
    },
    "b10a2b5322f3414383407ae5654e597e": {
     "model_module": "@jupyter-widgets/base",
     "model_module_version": "1.2.0",
     "model_name": "LayoutModel",
     "state": {
      "_model_module": "@jupyter-widgets/base",
      "_model_module_version": "1.2.0",
      "_model_name": "LayoutModel",
      "_view_count": null,
      "_view_module": "@jupyter-widgets/base",
      "_view_module_version": "1.2.0",
      "_view_name": "LayoutView",
      "align_content": null,
      "align_items": null,
      "align_self": null,
      "border": null,
      "bottom": null,
      "display": null,
      "flex": null,
      "flex_flow": null,
      "grid_area": null,
      "grid_auto_columns": null,
      "grid_auto_flow": null,
      "grid_auto_rows": null,
      "grid_column": null,
      "grid_gap": null,
      "grid_row": null,
      "grid_template_areas": null,
      "grid_template_columns": null,
      "grid_template_rows": null,
      "height": null,
      "justify_content": null,
      "justify_items": null,
      "left": null,
      "margin": null,
      "max_height": null,
      "max_width": null,
      "min_height": null,
      "min_width": null,
      "object_fit": null,
      "object_position": null,
      "order": null,
      "overflow": null,
      "overflow_x": null,
      "overflow_y": null,
      "padding": null,
      "right": null,
      "top": null,
      "visibility": null,
      "width": null
     }
    },
    "b5d1c79c99a9406899e0a4b363f15609": {
     "model_module": "@jupyter-widgets/controls",
     "model_module_version": "1.5.0",
     "model_name": "HTMLModel",
     "state": {
      "_dom_classes": [],
      "_model_module": "@jupyter-widgets/controls",
      "_model_module_version": "1.5.0",
      "_model_name": "HTMLModel",
      "_view_count": null,
      "_view_module": "@jupyter-widgets/controls",
      "_view_module_version": "1.5.0",
      "_view_name": "HTMLView",
      "description": "",
      "description_tooltip": null,
      "layout": "IPY_MODEL_2e6f5363febd4a15b167a45dfb973996",
      "placeholder": "​",
      "style": "IPY_MODEL_263381ade6b54cdfb7d1fb27fa011df3",
      "value": "100%"
     }
    },
    "bb5b67550a2449d3a13968714722c12d": {
     "model_module": "@jupyter-widgets/controls",
     "model_module_version": "1.5.0",
     "model_name": "HTMLModel",
     "state": {
      "_dom_classes": [],
      "_model_module": "@jupyter-widgets/controls",
      "_model_module_version": "1.5.0",
      "_model_name": "HTMLModel",
      "_view_count": null,
      "_view_module": "@jupyter-widgets/controls",
      "_view_module_version": "1.5.0",
      "_view_name": "HTMLView",
      "description": "",
      "description_tooltip": null,
      "layout": "IPY_MODEL_3689848f88144c9fae1a4679a2d2b285",
      "placeholder": "​",
      "style": "IPY_MODEL_73d66f6df7f24be48c8d357ddc2ab6bb",
      "value": " 9912422/9912422 [00:00&lt;00:00, 4074605.57it/s]"
     }
    },
    "be45cf15bb8248f397c7e12b9b5eee70": {
     "model_module": "@jupyter-widgets/base",
     "model_module_version": "1.2.0",
     "model_name": "LayoutModel",
     "state": {
      "_model_module": "@jupyter-widgets/base",
      "_model_module_version": "1.2.0",
      "_model_name": "LayoutModel",
      "_view_count": null,
      "_view_module": "@jupyter-widgets/base",
      "_view_module_version": "1.2.0",
      "_view_name": "LayoutView",
      "align_content": null,
      "align_items": null,
      "align_self": null,
      "border": null,
      "bottom": null,
      "display": null,
      "flex": null,
      "flex_flow": null,
      "grid_area": null,
      "grid_auto_columns": null,
      "grid_auto_flow": null,
      "grid_auto_rows": null,
      "grid_column": null,
      "grid_gap": null,
      "grid_row": null,
      "grid_template_areas": null,
      "grid_template_columns": null,
      "grid_template_rows": null,
      "height": null,
      "justify_content": null,
      "justify_items": null,
      "left": null,
      "margin": null,
      "max_height": null,
      "max_width": null,
      "min_height": null,
      "min_width": null,
      "object_fit": null,
      "object_position": null,
      "order": null,
      "overflow": null,
      "overflow_x": null,
      "overflow_y": null,
      "padding": null,
      "right": null,
      "top": null,
      "visibility": null,
      "width": null
     }
    },
    "cffc82668cec4f7d8efe93c5a05fb7ad": {
     "model_module": "@jupyter-widgets/base",
     "model_module_version": "1.2.0",
     "model_name": "LayoutModel",
     "state": {
      "_model_module": "@jupyter-widgets/base",
      "_model_module_version": "1.2.0",
      "_model_name": "LayoutModel",
      "_view_count": null,
      "_view_module": "@jupyter-widgets/base",
      "_view_module_version": "1.2.0",
      "_view_name": "LayoutView",
      "align_content": null,
      "align_items": null,
      "align_self": null,
      "border": null,
      "bottom": null,
      "display": null,
      "flex": null,
      "flex_flow": null,
      "grid_area": null,
      "grid_auto_columns": null,
      "grid_auto_flow": null,
      "grid_auto_rows": null,
      "grid_column": null,
      "grid_gap": null,
      "grid_row": null,
      "grid_template_areas": null,
      "grid_template_columns": null,
      "grid_template_rows": null,
      "height": null,
      "justify_content": null,
      "justify_items": null,
      "left": null,
      "margin": null,
      "max_height": null,
      "max_width": null,
      "min_height": null,
      "min_width": null,
      "object_fit": null,
      "object_position": null,
      "order": null,
      "overflow": null,
      "overflow_x": null,
      "overflow_y": null,
      "padding": null,
      "right": null,
      "top": null,
      "visibility": null,
      "width": null
     }
    },
    "d1decfa2fa8846f7a0dd006db576814d": {
     "model_module": "@jupyter-widgets/controls",
     "model_module_version": "1.5.0",
     "model_name": "HTMLModel",
     "state": {
      "_dom_classes": [],
      "_model_module": "@jupyter-widgets/controls",
      "_model_module_version": "1.5.0",
      "_model_name": "HTMLModel",
      "_view_count": null,
      "_view_module": "@jupyter-widgets/controls",
      "_view_module_version": "1.5.0",
      "_view_name": "HTMLView",
      "description": "",
      "description_tooltip": null,
      "layout": "IPY_MODEL_3e4abfc234874050a17ad30215f695ef",
      "placeholder": "​",
      "style": "IPY_MODEL_7ed918036dc94d789643efbac17979d3",
      "value": " 1648877/1648877 [00:00&lt;00:00, 4579041.64it/s]"
     }
    },
    "e28b0e4ee60348278f4495c8a64dfbe6": {
     "model_module": "@jupyter-widgets/base",
     "model_module_version": "1.2.0",
     "model_name": "LayoutModel",
     "state": {
      "_model_module": "@jupyter-widgets/base",
      "_model_module_version": "1.2.0",
      "_model_name": "LayoutModel",
      "_view_count": null,
      "_view_module": "@jupyter-widgets/base",
      "_view_module_version": "1.2.0",
      "_view_name": "LayoutView",
      "align_content": null,
      "align_items": null,
      "align_self": null,
      "border": null,
      "bottom": null,
      "display": null,
      "flex": null,
      "flex_flow": null,
      "grid_area": null,
      "grid_auto_columns": null,
      "grid_auto_flow": null,
      "grid_auto_rows": null,
      "grid_column": null,
      "grid_gap": null,
      "grid_row": null,
      "grid_template_areas": null,
      "grid_template_columns": null,
      "grid_template_rows": null,
      "height": null,
      "justify_content": null,
      "justify_items": null,
      "left": null,
      "margin": null,
      "max_height": null,
      "max_width": null,
      "min_height": null,
      "min_width": null,
      "object_fit": null,
      "object_position": null,
      "order": null,
      "overflow": null,
      "overflow_x": null,
      "overflow_y": null,
      "padding": null,
      "right": null,
      "top": null,
      "visibility": null,
      "width": null
     }
    },
    "e70a8735083b4c1ca2abebad798c905d": {
     "model_module": "@jupyter-widgets/controls",
     "model_module_version": "1.5.0",
     "model_name": "DescriptionStyleModel",
     "state": {
      "_model_module": "@jupyter-widgets/controls",
      "_model_module_version": "1.5.0",
      "_model_name": "DescriptionStyleModel",
      "_view_count": null,
      "_view_module": "@jupyter-widgets/base",
      "_view_module_version": "1.2.0",
      "_view_name": "StyleView",
      "description_width": ""
     }
    },
    "eda0f89ab9ee4ef0843f6436ef133221": {
     "model_module": "@jupyter-widgets/controls",
     "model_module_version": "1.5.0",
     "model_name": "DescriptionStyleModel",
     "state": {
      "_model_module": "@jupyter-widgets/controls",
      "_model_module_version": "1.5.0",
      "_model_name": "DescriptionStyleModel",
      "_view_count": null,
      "_view_module": "@jupyter-widgets/base",
      "_view_module_version": "1.2.0",
      "_view_name": "StyleView",
      "description_width": ""
     }
    },
    "f1a65fa4e21e48349d85da6db26df1c4": {
     "model_module": "@jupyter-widgets/controls",
     "model_module_version": "1.5.0",
     "model_name": "HTMLModel",
     "state": {
      "_dom_classes": [],
      "_model_module": "@jupyter-widgets/controls",
      "_model_module_version": "1.5.0",
      "_model_name": "HTMLModel",
      "_view_count": null,
      "_view_module": "@jupyter-widgets/controls",
      "_view_module_version": "1.5.0",
      "_view_name": "HTMLView",
      "description": "",
      "description_tooltip": null,
      "layout": "IPY_MODEL_0041f2b533e74cbe919559f715b9bfd5",
      "placeholder": "​",
      "style": "IPY_MODEL_a7cdc83ddb6444e1b0cb870181cbad86",
      "value": " 4542/4542 [00:00&lt;00:00, 43612.25it/s]"
     }
    },
    "f8b2d20259ab41f4a255b9d135cc9fde": {
     "model_module": "@jupyter-widgets/base",
     "model_module_version": "1.2.0",
     "model_name": "LayoutModel",
     "state": {
      "_model_module": "@jupyter-widgets/base",
      "_model_module_version": "1.2.0",
      "_model_name": "LayoutModel",
      "_view_count": null,
      "_view_module": "@jupyter-widgets/base",
      "_view_module_version": "1.2.0",
      "_view_name": "LayoutView",
      "align_content": null,
      "align_items": null,
      "align_self": null,
      "border": null,
      "bottom": null,
      "display": null,
      "flex": null,
      "flex_flow": null,
      "grid_area": null,
      "grid_auto_columns": null,
      "grid_auto_flow": null,
      "grid_auto_rows": null,
      "grid_column": null,
      "grid_gap": null,
      "grid_row": null,
      "grid_template_areas": null,
      "grid_template_columns": null,
      "grid_template_rows": null,
      "height": null,
      "justify_content": null,
      "justify_items": null,
      "left": null,
      "margin": null,
      "max_height": null,
      "max_width": null,
      "min_height": null,
      "min_width": null,
      "object_fit": null,
      "object_position": null,
      "order": null,
      "overflow": null,
      "overflow_x": null,
      "overflow_y": null,
      "padding": null,
      "right": null,
      "top": null,
      "visibility": null,
      "width": null
     }
    },
    "f92f33f64a3a4dc288c09496f1009bef": {
     "model_module": "@jupyter-widgets/controls",
     "model_module_version": "1.5.0",
     "model_name": "ProgressStyleModel",
     "state": {
      "_model_module": "@jupyter-widgets/controls",
      "_model_module_version": "1.5.0",
      "_model_name": "ProgressStyleModel",
      "_view_count": null,
      "_view_module": "@jupyter-widgets/base",
      "_view_module_version": "1.2.0",
      "_view_name": "StyleView",
      "bar_color": null,
      "description_width": ""
     }
    },
    "fbb7f2f6b86d434fb01e804d713c59bd": {
     "model_module": "@jupyter-widgets/controls",
     "model_module_version": "1.5.0",
     "model_name": "DescriptionStyleModel",
     "state": {
      "_model_module": "@jupyter-widgets/controls",
      "_model_module_version": "1.5.0",
      "_model_name": "DescriptionStyleModel",
      "_view_count": null,
      "_view_module": "@jupyter-widgets/base",
      "_view_module_version": "1.2.0",
      "_view_name": "StyleView",
      "description_width": ""
     }
    }
   }
  }
 },
 "nbformat": 4,
 "nbformat_minor": 4
}
