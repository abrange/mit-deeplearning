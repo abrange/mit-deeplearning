{
 "cells": [
  {
   "cell_type": "markdown",
   "id": "32ab565e-6e2e-40d0-a749-1d6ce1c4a8e9",
   "metadata": {},
   "source": [
    "# MIT Deep Learning"
   ]
  },
  {
   "cell_type": "markdown",
   "id": "135b1ba8-43a1-4311-97b5-730976ef82c1",
   "metadata": {},
   "source": [
    "## Module 1"
   ]
  },
  {
   "cell_type": "code",
   "execution_count": null,
   "id": "813488b0-4499-4dab-b513-519c597da86e",
   "metadata": {},
   "outputs": [],
   "source": []
  }
 ],
 "metadata": {
  "kernelspec": {
   "display_name": "Python 3 (ipykernel)",
   "language": "python",
   "name": "python3"
  },
  "language_info": {
   "codemirror_mode": {
    "name": "ipython",
    "version": 3
   },
   "file_extension": ".py",
   "mimetype": "text/x-python",
   "name": "python",
   "nbconvert_exporter": "python",
   "pygments_lexer": "ipython3",
   "version": "3.13.5"
  }
 },
 "nbformat": 4,
 "nbformat_minor": 5
}
