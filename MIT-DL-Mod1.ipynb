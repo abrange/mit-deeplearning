{
  "cells": [
    {
      "cell_type": "markdown",
      "metadata": {
        "id": "view-in-github",
        "colab_type": "text"
      },
      "source": [
        "<a href=\"https://colab.research.google.com/github/abrange/mit-deeplearning/blob/main/MIT-DL-Mod1.ipynb\" target=\"_parent\"><img src=\"https://colab.research.google.com/assets/colab-badge.svg\" alt=\"Open In Colab\"/></a>"
      ]
    },
    {
      "cell_type": "markdown",
      "id": "32ab565e-6e2e-40d0-a749-1d6ce1c4a8e9",
      "metadata": {
        "id": "32ab565e-6e2e-40d0-a749-1d6ce1c4a8e9"
      },
      "source": [
        "# MIT Deep Learning"
      ]
    },
    {
      "cell_type": "markdown",
      "id": "135b1ba8-43a1-4311-97b5-730976ef82c1",
      "metadata": {
        "id": "135b1ba8-43a1-4311-97b5-730976ef82c1"
      },
      "source": [
        "## Module 1"
      ]
    },
    {
      "cell_type": "markdown",
      "id": "c1a8fe5c-ca13-4eef-9854-a81288ef7116",
      "metadata": {
        "id": "c1a8fe5c-ca13-4eef-9854-a81288ef7116"
      },
      "source": [
        "This is an introduction to ML"
      ]
    },
    {
      "cell_type": "code",
      "execution_count": 1,
      "id": "8e3f8de4-aa82-4565-a78a-72553f2736fe",
      "metadata": {
        "id": "8e3f8de4-aa82-4565-a78a-72553f2736fe",
        "outputId": "ca184e60-a646-4dea-8427-b6e174e6dd28",
        "colab": {
          "base_uri": "https://localhost:8080/"
        }
      },
      "outputs": [
        {
          "output_type": "execute_result",
          "data": {
            "text/plain": [
              "2"
            ]
          },
          "metadata": {},
          "execution_count": 1
        }
      ],
      "source": [
        "1+1"
      ]
    }
  ],
  "metadata": {
    "kernelspec": {
      "display_name": "Python 3 (ipykernel)",
      "language": "python",
      "name": "python3"
    },
    "language_info": {
      "codemirror_mode": {
        "name": "ipython",
        "version": 3
      },
      "file_extension": ".py",
      "mimetype": "text/x-python",
      "name": "python",
      "nbconvert_exporter": "python",
      "pygments_lexer": "ipython3",
      "version": "3.13.5"
    },
    "colab": {
      "provenance": [],
      "include_colab_link": true
    }
  },
  "nbformat": 4,
  "nbformat_minor": 5
}