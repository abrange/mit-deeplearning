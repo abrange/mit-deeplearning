{
  "cells": [
    {
      "cell_type": "markdown",
      "metadata": {
        "id": "view-in-github",
        "colab_type": "text"
      },
      "source": [
        "<a href=\"https://colab.research.google.com/github/abrange/mit-deeplearning/blob/main/module_3/Deep_Learning_Mastering_Neural_Networks_Module_3_Assignment.ipynb\" target=\"_parent\"><img src=\"https://colab.research.google.com/assets/colab-badge.svg\" alt=\"Open In Colab\"/></a>"
      ]
    },
    {
      "cell_type": "markdown",
      "metadata": {
        "id": "1uCZ_UPrmRUC"
      },
      "source": [
        "# Module 3 Assignment: MNIST Classification\n",
        "\n",
        "Now that we have the full power of PyTorch at our disposal, we would like to classify a more concrete dataset. In particular, we are going to look at building a classifier for the [MNIST Handwritten Digits dataset](https://en.wikipedia.org/wiki/MNIST_database). This dataset contains tens of thousands of handwritten digits from 0-9 and is very commonly used for machine learning algorithm development. In this assignment, we will provide some basic dataloading code and would like you to build a deep neural network that is trained on the MNIST dataset! Feel free to reuse code you have written or seen before in previous notebooks!"
      ]
    },
    {
      "cell_type": "code",
      "execution_count": 1,
      "metadata": {
        "id": "JIIMjd6QmEz4",
        "colab": {
          "base_uri": "https://localhost:8080/"
        },
        "outputId": "52a9bdde-4cd2-48b0-bca9-9c7b544b93e1"
      },
      "outputs": [
        {
          "output_type": "execute_result",
          "data": {
            "text/plain": [
              "device(type='cuda')"
            ]
          },
          "metadata": {},
          "execution_count": 1
        }
      ],
      "source": [
        "import torch\n",
        "import torch.nn as nn\n",
        "import torchvision.datasets\n",
        "from torchvision import transforms\n",
        "from torch.utils.data import DataLoader\n",
        "from torch.utils.data.sampler import SubsetRandomSampler\n",
        "import time, copy\n",
        "\n",
        "# device config (train our model on GPU if it is available which is much faster)\n",
        "device = torch.device('cuda' if torch.cuda.is_available() else 'cpu')\n",
        "device"
      ]
    },
    {
      "cell_type": "markdown",
      "metadata": {
        "id": "empWeSSeSGV9"
      },
      "source": [
        "First we will load in our MNIST dataset. Pytorch provides built in functions for loading popular image datasets, MNIST is one of them."
      ]
    },
    {
      "cell_type": "code",
      "execution_count": 2,
      "metadata": {
        "id": "58D0TK6DfFs3"
      },
      "outputs": [],
      "source": [
        "import matplotlib.pyplot as plt\n",
        "from sklearn import metrics\n",
        "\n",
        "# Utility functions for plotting your results!\n",
        "def plot_training_curves(training_curves,\n",
        "                         phases=['train', 'val', 'test'],\n",
        "                         metrics=['loss','acc']):\n",
        "    epochs = list(range(len(training_curves['train_loss'])))\n",
        "    for metric in metrics:\n",
        "        plt.figure()\n",
        "        plt.title(f'Training curves - {metric}')\n",
        "        for phase in phases:\n",
        "            key = phase+'_'+metric\n",
        "            if key in training_curves:\n",
        "                # Move tensor to CPU before plotting\n",
        "                plt.plot(epochs, [t.cpu() if isinstance(t, torch.Tensor) else t for t in training_curves[phase+'_'+metric]])\n",
        "        plt.xlabel('epoch')\n",
        "        plt.legend(labels=phases)\n",
        "\n",
        "def classify_predictions(model, device, dataloader):\n",
        "    model.eval()   # Set model to evaluate mode\n",
        "    all_labels = torch.tensor([]).to(device)\n",
        "    all_scores = torch.tensor([]).to(device)\n",
        "    all_preds = torch.tensor([]).to(device)\n",
        "    for inputs, labels in dataloader:\n",
        "        # Important! We need to flatten every datapoint\n",
        "        inputs = inputs.view(inputs.shape[0], -1)\n",
        "        inputs = inputs.to(device)\n",
        "        labels = labels.to(device)\n",
        "        outputs = torch.softmax(model(inputs),dim=1)\n",
        "        _, preds = torch.max(outputs, 1)\n",
        "        scores = outputs[:,1]\n",
        "        all_labels = torch.cat((all_labels, labels), 0)\n",
        "        all_scores = torch.cat((all_scores, scores), 0)\n",
        "        all_preds = torch.cat((all_preds, preds), 0)\n",
        "    return all_preds.detach().cpu(), all_labels.detach().cpu(), all_scores.detach().cpu()\n",
        "\n",
        "def plot_cm(model, device, dataloaders, phase='test'):\n",
        "    class_labels = [0, 1, 2, 3, 4, 5, 6, 7, 8, 9]\n",
        "    preds, labels, scores = classify_predictions(model, device, dataloaders[phase])\n",
        "\n",
        "    cm = metrics.confusion_matrix(labels, preds)\n",
        "    disp = metrics.ConfusionMatrixDisplay(confusion_matrix=cm, display_labels=class_labels)\n",
        "    ax = disp.plot().ax_\n",
        "    ax.set_title('Confusion Matrix -- counts')"
      ]
    },
    {
      "cell_type": "code",
      "execution_count": 3,
      "metadata": {
        "id": "nIxOn6d_DowR"
      },
      "outputs": [],
      "source": [
        "# These transforms will be performed on every datapoint - in this example we want to transform every\n",
        "# datapoint to a Tensor datatype, and perform\n",
        "transform = transforms.Compose([transforms.ToTensor(), transforms.Normalize([0.5], [0.5])])\n",
        "mnist_train = torchvision.datasets.MNIST('', train=True, transform =transform, download=True)\n",
        "# We will split out train dataset into train and validation!\n",
        "mnist_train, mnist_val = torch.utils.data.random_split(mnist_train, [50_000, 10_000])\n",
        "mnist_test = torchvision.datasets.MNIST('', train=False, transform = transform, download=True)\n"
      ]
    },
    {
      "cell_type": "code",
      "execution_count": 4,
      "metadata": {
        "id": "9X6r4BM4pdMv",
        "colab": {
          "base_uri": "https://localhost:8080/"
        },
        "outputId": "d9bcb2e9-8b32-47b8-b6c5-5f92d4a0a084"
      },
      "outputs": [
        {
          "output_type": "stream",
          "name": "stdout",
          "text": [
            "dataset_sizes = {'train': 50000, 'val': 10000, 'test': 10000}\n"
          ]
        }
      ],
      "source": [
        "# We will create DataLoaders just like before with a batch size of 100\n",
        "batch_size = 100\n",
        "dataloaders = {'train': DataLoader(mnist_train, batch_size=batch_size),\n",
        "               'val': DataLoader(mnist_val, batch_size=batch_size),\n",
        "               'test': DataLoader(mnist_test, batch_size=batch_size)}\n",
        "\n",
        "dataset_sizes = {'train': len(mnist_train),\n",
        "                 'val': len(mnist_val),\n",
        "                 'test': len(mnist_test)}\n",
        "print(f'dataset_sizes = {dataset_sizes}')"
      ]
    },
    {
      "cell_type": "code",
      "execution_count": 5,
      "metadata": {
        "id": "u6tl7_VrwUU7",
        "colab": {
          "base_uri": "https://localhost:8080/"
        },
        "outputId": "f7a59079-55eb-4b6b-e370-98de74347a30"
      },
      "outputs": [
        {
          "output_type": "stream",
          "name": "stdout",
          "text": [
            "before torch.Size([100, 1, 28, 28]) after torch.Size([100, 784])\n",
            "end count train 1\n",
            "before torch.Size([100, 1, 28, 28]) after torch.Size([100, 784])\n",
            "end count val 1\n",
            "before torch.Size([100, 1, 28, 28]) after torch.Size([100, 784])\n",
            "end count test 1\n"
          ]
        }
      ],
      "source": [
        "# Hint! In the Module 3 Introduction to Pytorch notebook, the Network\n",
        "# we created required the input data to be of shape Nx1 where N is the number of\n",
        "# features. Currently, our MNIST dataset is shape 28x28 as they are images. Use\n",
        "# this code snippet as you iterate through the datapoint in your dataset to flatten\n",
        "# them so it is size 784x1 and can be used with the models we designed previously!\n",
        "\n",
        "# This loop only iterates through the \"train\" datapoints\n",
        "# In the previous notebook\n",
        "phases = [\"train\", \"val\", \"test\"]\n",
        "for phase in phases:\n",
        "  count = 0\n",
        "  for inputs, labels in dataloaders[phase]:\n",
        "    #print(inputs.shape, labels.shape)\n",
        "    count += 1\n",
        "\n",
        "    # This flattens every every batch to the correct size!\n",
        "    before = inputs.shape\n",
        "    inputs = inputs.view(inputs.shape[0],-1)\n",
        "    print(\"before\", before, \"after\", inputs.shape)\n",
        "    break\n",
        "\n",
        "  print(\"end count\", phase, count)"
      ]
    },
    {
      "cell_type": "code",
      "source": [
        "print(inputs.shape)\n",
        "print(inputs)"
      ],
      "metadata": {
        "colab": {
          "base_uri": "https://localhost:8080/"
        },
        "id": "O6L9o_uPyY-O",
        "outputId": "e79a3d2d-f3c9-47e8-b2e4-4ddcdad3a670"
      },
      "execution_count": 6,
      "outputs": [
        {
          "output_type": "stream",
          "name": "stdout",
          "text": [
            "torch.Size([100, 784])\n",
            "tensor([[-1., -1., -1.,  ..., -1., -1., -1.],\n",
            "        [-1., -1., -1.,  ..., -1., -1., -1.],\n",
            "        [-1., -1., -1.,  ..., -1., -1., -1.],\n",
            "        ...,\n",
            "        [-1., -1., -1.,  ..., -1., -1., -1.],\n",
            "        [-1., -1., -1.,  ..., -1., -1., -1.],\n",
            "        [-1., -1., -1.,  ..., -1., -1., -1.]])\n"
          ]
        }
      ]
    },
    {
      "cell_type": "code",
      "source": [
        "# From https://pytorch.org/tutorials/beginner/transfer_learning_tutorial.html\n",
        "\n",
        "def train_model(model, dataloaders, dataset_sizes, criterion, optimizer, scheduler, num_epochs=25):\n",
        "    since = time.time()\n",
        "\n",
        "    best_model_wts = copy.deepcopy(model.state_dict()) # keep the best weights stored separately\n",
        "    best_acc = 0.0\n",
        "    best_epoch = 0\n",
        "\n",
        "    # Each epoch has a training, validation, and test phase\n",
        "    phases = ['train', 'val', 'test']\n",
        "\n",
        "    # Keep track of how loss and accuracy evolves during training\n",
        "    training_curves = {}\n",
        "    for phase in phases:\n",
        "        training_curves[phase+'_loss'] = []\n",
        "        training_curves[phase+'_acc'] = []\n",
        "\n",
        "    for epoch in range(num_epochs):\n",
        "        print(f'\\nEpoch {epoch+1}/{num_epochs}')\n",
        "        print('-' * 10)\n",
        "\n",
        "        for phase in phases:\n",
        "            if phase == 'train':\n",
        "                model.train()  # Set model to training mode\n",
        "            else:\n",
        "                model.eval()   # Set model to evaluate mode\n",
        "\n",
        "            running_loss = 0.0\n",
        "            running_corrects = 0\n",
        "\n",
        "            # Iterate over data.\n",
        "            for inputs, labels in dataloaders[phase]:\n",
        "                # This ensures all of our datapoints are flattened\n",
        "                # before feeding them to our model\n",
        "                inputs = inputs.view(inputs.shape[0],-1)\n",
        "                inputs = inputs.to(device)\n",
        "                labels = labels.to(device)\n",
        "\n",
        "                # zero the parameter gradients\n",
        "                optimizer.zero_grad()\n",
        "\n",
        "                # forward\n",
        "                with torch.set_grad_enabled(phase == 'train'):\n",
        "                    outputs = model(inputs)\n",
        "                    _, predictions = torch.max(outputs, 1)\n",
        "                    loss = criterion(outputs, labels)\n",
        "\n",
        "                    # backward + update weights only if in training phase\n",
        "                    if phase == 'train':\n",
        "                        loss.backward()\n",
        "                        optimizer.step()\n",
        "\n",
        "                # statistics\n",
        "                running_loss += loss.item() * inputs.size(0)\n",
        "                running_corrects += torch.sum(predictions == labels.data)\n",
        "\n",
        "            if phase == 'train':\n",
        "                scheduler.step()\n",
        "\n",
        "            epoch_loss = running_loss / dataset_sizes[phase]\n",
        "            epoch_acc = running_corrects.double() / dataset_sizes[phase]\n",
        "            training_curves[phase+'_loss'].append(epoch_loss)\n",
        "            training_curves[phase+'_acc'].append(epoch_acc)\n",
        "\n",
        "            print(f'{phase:5} Loss: {epoch_loss:.4f} Acc: {epoch_acc:.4f}')\n",
        "\n",
        "            # deep copy the model if it's the best accuracy (based on validation)\n",
        "            if phase == 'val' and epoch_acc > best_acc:\n",
        "                best_epoch = epoch\n",
        "                best_acc = epoch_acc\n",
        "                best_model_wts = copy.deepcopy(model.state_dict())\n",
        "\n",
        "    time_elapsed = time.time() - since\n",
        "    print(f'\\nTraining complete in {time_elapsed // 60:.0f}m {time_elapsed % 60:.0f}s')\n",
        "    print(f'Best val Acc: {best_acc:4f} at epoch {best_epoch}')\n",
        "\n",
        "    # load best model weights\n",
        "    model.load_state_dict(best_model_wts)\n",
        "\n",
        "    return model, training_curves"
      ],
      "metadata": {
        "id": "sQ3AgK2z9CEZ"
      },
      "execution_count": 8,
      "outputs": []
    },
    {
      "cell_type": "markdown",
      "source": [
        "# Two-hidden-Layer Training and error visualization\n"
      ],
      "metadata": {
        "id": "1LpEEOfR9Xh8"
      }
    },
    {
      "cell_type": "code",
      "source": [
        "# Create a Model as Python class for a Mulity Category Classifier that inherit from pytorch.nn.Model\n",
        "\n",
        "# Simple two-hidden-layer classification model\n",
        "class SimpleClassifier2Layer(nn.Module):\n",
        "    def __init__(self, input_size, hidden_size1, hidden_size2, num_classes):\n",
        "        super(SimpleClassifier2Layer, self).__init__()\n",
        "        self.layers = nn.Sequential(\n",
        "            nn.Linear(input_size, hidden_size1),\n",
        "            nn.ReLU(),\n",
        "            nn.Linear(hidden_size1, hidden_size2),\n",
        "            nn.ReLU(),\n",
        "            nn.Linear(hidden_size2, num_classes),\n",
        "        )\n",
        "\n",
        "    def forward(self, x):\n",
        "        return self.layers(x)"
      ],
      "metadata": {
        "id": "X5L6PIB8YEwM"
      },
      "execution_count": 9,
      "outputs": []
    },
    {
      "cell_type": "code",
      "source": [
        "# device config (train our model on GPU if it is available which is much faster)\n",
        "device = torch.device('cuda' if torch.cuda.is_available() else 'cpu')\n",
        "\n",
        "FEATURE_LEN = 784\n",
        "# hyperparameters\n",
        "\n",
        "# model architecture\n",
        "input_size = FEATURE_LEN\n",
        "hidden_size1 = 512\n",
        "hidden_size2 = 256\n",
        "num_classes = 10\n",
        "\n",
        "# external training parameters\n",
        "batch_size = 10\n",
        "learning_rate = 0.001\n",
        "num_epochs = 20"
      ],
      "metadata": {
        "id": "T5M1FJD82oJI"
      },
      "execution_count": 39,
      "outputs": []
    },
    {
      "cell_type": "code",
      "execution_count": 40,
      "metadata": {
        "id": "Bac-y0X2XymI",
        "colab": {
          "base_uri": "https://localhost:8080/"
        },
        "outputId": "fc3bf6c3-b84f-4bb4-c286-cdcb86b54b51"
      },
      "outputs": [
        {
          "output_type": "stream",
          "name": "stdout",
          "text": [
            "SimpleClassifier2Layer(\n",
            "  (layers): Sequential(\n",
            "    (0): Linear(in_features=784, out_features=512, bias=True)\n",
            "    (1): ReLU()\n",
            "    (2): Linear(in_features=512, out_features=256, bias=True)\n",
            "    (3): ReLU()\n",
            "    (4): Linear(in_features=256, out_features=10, bias=True)\n",
            "  )\n",
            ")\n",
            "\n",
            "Epoch 1/20\n",
            "----------\n",
            "train Loss: 0.3552 Acc: 0.8908\n",
            "val   Loss: 0.2022 Acc: 0.9413\n",
            "test  Loss: 0.1920 Acc: 0.9429\n",
            "\n",
            "Epoch 2/20\n",
            "----------\n",
            "train Loss: 0.1537 Acc: 0.9523\n",
            "val   Loss: 0.1700 Acc: 0.9502\n",
            "test  Loss: 0.1614 Acc: 0.9508\n",
            "\n",
            "Epoch 3/20\n",
            "----------\n",
            "train Loss: 0.1097 Acc: 0.9653\n",
            "val   Loss: 0.1282 Acc: 0.9611\n",
            "test  Loss: 0.1259 Acc: 0.9621\n",
            "\n",
            "Epoch 4/20\n",
            "----------\n",
            "train Loss: 0.0857 Acc: 0.9735\n",
            "val   Loss: 0.1056 Acc: 0.9684\n",
            "test  Loss: 0.1024 Acc: 0.9693\n",
            "\n",
            "Epoch 5/20\n",
            "----------\n",
            "train Loss: 0.0694 Acc: 0.9789\n",
            "val   Loss: 0.0952 Acc: 0.9712\n",
            "test  Loss: 0.0901 Acc: 0.9716\n",
            "\n",
            "Epoch 6/20\n",
            "----------\n",
            "train Loss: 0.0542 Acc: 0.9828\n",
            "val   Loss: 0.0868 Acc: 0.9731\n",
            "test  Loss: 0.0854 Acc: 0.9728\n",
            "\n",
            "Epoch 7/20\n",
            "----------\n",
            "train Loss: 0.0418 Acc: 0.9865\n",
            "val   Loss: 0.0895 Acc: 0.9725\n",
            "test  Loss: 0.0859 Acc: 0.9730\n",
            "\n",
            "Epoch 8/20\n",
            "----------\n",
            "train Loss: 0.0343 Acc: 0.9888\n",
            "val   Loss: 0.0902 Acc: 0.9745\n",
            "test  Loss: 0.0861 Acc: 0.9741\n",
            "\n",
            "Epoch 9/20\n",
            "----------\n",
            "train Loss: 0.0294 Acc: 0.9904\n",
            "val   Loss: 0.0832 Acc: 0.9755\n",
            "test  Loss: 0.0812 Acc: 0.9753\n",
            "\n",
            "Epoch 10/20\n",
            "----------\n",
            "train Loss: 0.0248 Acc: 0.9916\n",
            "val   Loss: 0.0851 Acc: 0.9769\n",
            "test  Loss: 0.0844 Acc: 0.9754\n",
            "\n",
            "Epoch 11/20\n",
            "----------\n",
            "train Loss: 0.0241 Acc: 0.9915\n",
            "val   Loss: 0.0951 Acc: 0.9765\n",
            "test  Loss: 0.0904 Acc: 0.9778\n",
            "\n",
            "Epoch 12/20\n",
            "----------\n",
            "train Loss: 0.0193 Acc: 0.9934\n",
            "val   Loss: 0.0855 Acc: 0.9799\n",
            "test  Loss: 0.0822 Acc: 0.9789\n",
            "\n",
            "Epoch 13/20\n",
            "----------\n",
            "train Loss: 0.0157 Acc: 0.9952\n",
            "val   Loss: 0.0972 Acc: 0.9765\n",
            "test  Loss: 0.0887 Acc: 0.9778\n",
            "\n",
            "Epoch 14/20\n",
            "----------\n",
            "train Loss: 0.0140 Acc: 0.9952\n",
            "val   Loss: 0.0991 Acc: 0.9773\n",
            "test  Loss: 0.0934 Acc: 0.9769\n",
            "\n",
            "Epoch 15/20\n",
            "----------\n",
            "train Loss: 0.0129 Acc: 0.9960\n",
            "val   Loss: 0.0933 Acc: 0.9793\n",
            "test  Loss: 0.0829 Acc: 0.9804\n",
            "\n",
            "Epoch 16/20\n",
            "----------\n",
            "train Loss: 0.0113 Acc: 0.9961\n",
            "val   Loss: 0.1003 Acc: 0.9773\n",
            "test  Loss: 0.0884 Acc: 0.9797\n",
            "\n",
            "Epoch 17/20\n",
            "----------\n",
            "train Loss: 0.0094 Acc: 0.9967\n",
            "val   Loss: 0.0939 Acc: 0.9796\n",
            "test  Loss: 0.0881 Acc: 0.9797\n",
            "\n",
            "Epoch 18/20\n",
            "----------\n",
            "train Loss: 0.0086 Acc: 0.9971\n",
            "val   Loss: 0.0908 Acc: 0.9806\n",
            "test  Loss: 0.0855 Acc: 0.9797\n",
            "\n",
            "Epoch 19/20\n",
            "----------\n",
            "train Loss: 0.0069 Acc: 0.9978\n",
            "val   Loss: 0.1105 Acc: 0.9769\n",
            "test  Loss: 0.1031 Acc: 0.9770\n",
            "\n",
            "Epoch 20/20\n",
            "----------\n",
            "train Loss: 0.0073 Acc: 0.9977\n",
            "val   Loss: 0.0971 Acc: 0.9797\n",
            "test  Loss: 0.0884 Acc: 0.9791\n",
            "\n",
            "Training complete in 5m 37s\n",
            "Best val Acc: 0.980600 at epoch 17\n"
          ]
        }
      ],
      "source": [
        "# Your code here #\n",
        "# I will try first with a 2 hidden-layers models\n",
        "\n",
        "# Print the models\n",
        "two_layer_model = SimpleClassifier2Layer(input_size, hidden_size1, hidden_size2, num_classes).to(device)\n",
        "print(two_layer_model)\n",
        "\n",
        "model = two_layer_model\n",
        "\n",
        "# loss and optimizer\n",
        "criterion = nn.CrossEntropyLoss() # CrossEntropyLoss for classification!\n",
        "optimizer = torch.optim.Adam(two_layer_model.parameters(), lr=learning_rate)\n",
        "scheduler = torch.optim.lr_scheduler.ExponentialLR(optimizer, gamma=0.95)\n",
        "# Make sure you save the training curves along the way for visualization afterwards!\n",
        "two_layer_model, training_curves_two_layer = train_model(\n",
        "    model,\n",
        "    dataloaders,\n",
        "    dataset_sizes,\n",
        "    criterion,\n",
        "    optimizer,\n",
        "    scheduler,\n",
        "    num_epochs=num_epochs\n",
        "  )\n",
        "# Training complete in 5m 5s\n",
        "# Best val Acc: 0.973300 at epoch 18, using 128 x 64\n",
        "\n",
        "# Training complete in 5m 29s\n",
        "# Best val Acc: 0.978200 at epoch 18, USING 256 * 128"
      ]
    },
    {
      "cell_type": "code",
      "execution_count": 21,
      "metadata": {
        "id": "I5afSrDnfMR1",
        "colab": {
          "base_uri": "https://localhost:8080/",
          "height": 927
        },
        "outputId": "d8bcb986-879c-40fb-9113-a8ecc37656e6"
      },
      "outputs": [
        {
          "output_type": "display_data",
          "data": {
            "text/plain": [
              "<Figure size 640x480 with 1 Axes>"
            ],
            "image/png": "[encoded data removed]"
          },
          "metadata": {}
        },
        {
          "output_type": "display_data",
          "data": {
            "text/plain": [
              "<Figure size 640x480 with 1 Axes>"
            ],
            "image/png": "[encoded data removed]"
          },
          "metadata": {}
        }
      ],
      "source": [
        "plot_training_curves(training_curves_two_layer, phases=['train', 'val', 'test'])"
      ]
    },
    {
      "cell_type": "code",
      "execution_count": 12,
      "metadata": {
        "id": "zoi36p-jfPqL",
        "colab": {
          "base_uri": "https://localhost:8080/",
          "height": 472
        },
        "outputId": "66c1877d-76cb-45ce-da46-38061acca475"
      },
      "outputs": [
        {
          "output_type": "display_data",
          "data": {
            "text/plain": [
              "<Figure size 640x480 with 2 Axes>"
            ],
            "image/png": "[encoded data removed]"
          },
          "metadata": {}
        }
      ],
      "source": [
        "res = plot_cm(two_layer_model, device, dataloaders, phase='test')"
      ]
    },
    {
      "cell_type": "markdown",
      "source": [
        "## 3 Layers"
      ],
      "metadata": {
        "id": "cLpdvDc9LdsJ"
      }
    },
    {
      "cell_type": "code",
      "source": [
        "# Simple three-hidden-layer classification model\n",
        "class SimpleClassifier3Layer(nn.Module):\n",
        "    def __init__(self, input_size, hidden_size1, hidden_size2, hidden_size3, num_classes):\n",
        "        super(SimpleClassifier3Layer, self).__init__()\n",
        "        self.layers = nn.Sequential(\n",
        "            nn.Linear(input_size, hidden_size1),\n",
        "            nn.ReLU(),\n",
        "            nn.Linear(hidden_size1, hidden_size2),\n",
        "            nn.ReLU(),\n",
        "            nn.Linear(hidden_size2, hidden_size3),\n",
        "            nn.ReLU(),\n",
        "            nn.Linear(hidden_size3, num_classes),\n",
        "        )\n",
        "\n",
        "    def forward(self, x):\n",
        "        return self.layers(x)"
      ],
      "metadata": {
        "id": "B8WeROD9YIi2"
      },
      "execution_count": 13,
      "outputs": []
    },
    {
      "cell_type": "code",
      "source": [
        "# device config (train our model on GPU if it is available which is much faster)\n",
        "device = torch.device('cuda' if torch.cuda.is_available() else 'cpu')\n",
        "\n",
        "FEATURE_LEN = 784\n",
        "# hyperparameters\n",
        "\n",
        "# model architecture\n",
        "input_size = FEATURE_LEN\n",
        "hidden_size1 = 512\n",
        "hidden_size2 = 256\n",
        "hidden_size3 = 64\n",
        "num_classes = 10\n",
        "\n",
        "# external training parameters\n",
        "batch_size = 10\n",
        "learning_rate = 0.001\n",
        "num_epochs = 20\n",
        "\n",
        "# Results:\n",
        "# Training complete in 4m 7s\n",
        "# Best val Acc: 0.972000 at epoch 11"
      ],
      "metadata": {
        "id": "wURtn28txHsK"
      },
      "execution_count": 49,
      "outputs": []
    },
    {
      "cell_type": "code",
      "source": [
        "# I will try first with a 2 hidden-layers models\n",
        "three_layer_model = SimpleClassifier3Layer(\n",
        "    input_size,\n",
        "    hidden_size1,\n",
        "    hidden_size2,\n",
        "    hidden_size3,\n",
        "    num_classes).to(device)\n",
        "print(three_layer_model)\n",
        "\n",
        "model = three_layer_model\n",
        "\n",
        "# loss and optimizer\n",
        "criterion = nn.CrossEntropyLoss() # CrossEntropyLoss for classification!\n",
        "# By adding a weight_decay term to the optimizer, we are including L2 Regularization!\n",
        "optimizer = torch.optim.Adam(model.parameters(), lr=learning_rate, weight_decay=0.005)\n",
        "# Optimizer without a Decay.\n",
        "#optimizer = torch.optim.Adam(model.parameters(), lr=learning_rate)\n",
        "scheduler = torch.optim.lr_scheduler.ExponentialLR(optimizer, gamma=0.95)\n",
        "# Make sure you save the training curves along the way for visualization afterwards!\n",
        "print(\"num_classed:\", num_classes)\n",
        "print(\"device:\", device)\n",
        "three_layer_model, training_curves_three_layer = train_model(\n",
        "    model,\n",
        "    dataloaders,\n",
        "    dataset_sizes,\n",
        "    criterion,\n",
        "    optimizer,\n",
        "    scheduler,\n",
        "    num_epochs=num_epochs\n",
        "  )"
      ],
      "metadata": {
        "colab": {
          "base_uri": "https://localhost:8080/"
        },
        "id": "M78QQPrsLdS1",
        "outputId": "6353373f-1705-48c3-9a1f-051f9dca0488"
      },
      "execution_count": null,
      "outputs": [
        {
          "output_type": "stream",
          "name": "stdout",
          "text": [
            "SimpleClassifier3Layer(\n",
            "  (layers): Sequential(\n",
            "    (0): Linear(in_features=784, out_features=512, bias=True)\n",
            "    (1): ReLU()\n",
            "    (2): Linear(in_features=512, out_features=256, bias=True)\n",
            "    (3): ReLU()\n",
            "    (4): Linear(in_features=256, out_features=64, bias=True)\n",
            "    (5): ReLU()\n",
            "    (6): Linear(in_features=64, out_features=10, bias=True)\n",
            "  )\n",
            ")\n",
            "num_classed: 10\n",
            "device: cuda\n",
            "\n",
            "Epoch 1/20\n",
            "----------\n",
            "train Loss: 0.4327 Acc: 0.8672\n",
            "val   Loss: 0.2501 Acc: 0.9265\n",
            "test  Loss: 0.2423 Acc: 0.9283\n",
            "\n",
            "Epoch 2/20\n",
            "----------\n",
            "train Loss: 0.2336 Acc: 0.9293\n",
            "val   Loss: 0.2013 Acc: 0.9450\n",
            "test  Loss: 0.1944 Acc: 0.9419\n",
            "\n",
            "Epoch 3/20\n",
            "----------\n",
            "train Loss: 0.1916 Acc: 0.9428\n",
            "val   Loss: 0.1853 Acc: 0.9486\n",
            "test  Loss: 0.1772 Acc: 0.9486\n",
            "\n",
            "Epoch 4/20\n",
            "----------\n",
            "train Loss: 0.1692 Acc: 0.9499\n",
            "val   Loss: 0.1734 Acc: 0.9512\n",
            "test  Loss: 0.1691 Acc: 0.9512\n",
            "\n",
            "Epoch 5/20\n",
            "----------\n",
            "train Loss: 0.1528 Acc: 0.9550\n",
            "val   Loss: 0.1705 Acc: 0.9521\n",
            "test  Loss: 0.1608 Acc: 0.9532\n",
            "\n",
            "Epoch 6/20\n",
            "----------\n",
            "train Loss: 0.1411 Acc: 0.9584\n",
            "val   Loss: 0.1561 Acc: 0.9553\n",
            "test  Loss: 0.1447 Acc: 0.9575\n",
            "\n",
            "Epoch 7/20\n",
            "----------\n",
            "train Loss: 0.1330 Acc: 0.9618\n",
            "val   Loss: 0.1430 Acc: 0.9598\n"
          ]
        }
      ]
    },
    {
      "cell_type": "code",
      "source": [
        "plot_training_curves(training_curves_three_layer, phases=['train', 'val', 'test'])"
      ],
      "metadata": {
        "id": "ioG7D1HdVquG"
      },
      "execution_count": null,
      "outputs": []
    },
    {
      "cell_type": "code",
      "source": [
        "res = plot_cm(three_layer_model, device, dataloaders, phase='test')"
      ],
      "metadata": {
        "id": "MdTx44DtVt-f"
      },
      "execution_count": null,
      "outputs": []
    },
    {
      "cell_type": "markdown",
      "source": [
        "# 3 Layers with Dropout"
      ],
      "metadata": {
        "id": "mFqnNQM5fEKq"
      }
    },
    {
      "cell_type": "code",
      "source": [
        "# Simple three-hidden-layer classification model with dropout\n",
        "class SimpleClassifier3LayerDropout(nn.Module):\n",
        "    def __init__(self, input_size, hidden_size1, hidden_size2, hidden_size3, num_classes, dropout):\n",
        "        super(SimpleClassifier3LayerDropout, self).__init__()\n",
        "        self.dropout = nn.Dropout(dropout) # dropout rate\n",
        "        self.layers = nn.Sequential(\n",
        "            nn.Linear(input_size, hidden_size1),\n",
        "            nn.ReLU(),\n",
        "            self.dropout,\n",
        "            nn.Linear(hidden_size1, hidden_size2),\n",
        "            nn.ReLU(),\n",
        "            self.dropout,\n",
        "            nn.Linear(hidden_size2, hidden_size3),\n",
        "            nn.ReLU(),\n",
        "            self.dropout,\n",
        "            nn.Linear(hidden_size3, num_classes),\n",
        "        )\n",
        "\n",
        "    def forward(self, x):\n",
        "        return self.layers(x)"
      ],
      "metadata": {
        "id": "QBBVijQTfIF6"
      },
      "execution_count": null,
      "outputs": []
    },
    {
      "cell_type": "code",
      "source": [
        "# device config (train our model on GPU if it is available which is much faster)\n",
        "device = torch.device('cuda' if torch.cuda.is_available() else 'cpu')\n",
        "print(\"device:\", device)\n",
        "# hyperparameters\n",
        "\n",
        "# model architecture\n",
        "input_size = FEATURE_LEN\n",
        "hidden_size1 = 512\n",
        "hidden_size2 = 128\n",
        "hidden_size3 = 128\n",
        "num_classes = 10\n",
        "dropout = .5\n",
        "\n",
        "# external training parameters\n",
        "batch_size = 10\n",
        "learning_rate = 0.001\n",
        "num_epochs = 20"
      ],
      "metadata": {
        "id": "Z6SebL-bfjRH"
      },
      "execution_count": null,
      "outputs": []
    },
    {
      "cell_type": "code",
      "source": [
        "# Reset the model with dropout\n",
        "print(num_classes)\n",
        "print(device)\n",
        "\n",
        "three_layer_encoded_l2_dropout_model = SimpleClassifier3LayerDropout(\n",
        "    input_size,\n",
        "    hidden_size1,\n",
        "    hidden_size2,\n",
        "    hidden_size3,\n",
        "    num_classes,\n",
        "    dropout).to(device)\n",
        "print(\"MODEL:\", three_layer_encoded_l2_dropout_model)\n",
        "\n",
        "\n",
        "# loss and optimizer\n",
        "criterion = nn.CrossEntropyLoss()\n",
        "# By adding a weight_decay term to the optimizer, we are including L2 Regularization!\n",
        "optimizer = torch.optim.Adam(three_layer_encoded_l2_dropout_model.parameters(), lr=learning_rate, weight_decay=1e-2)\n",
        "scheduler = torch.optim.lr_scheduler.ExponentialLR(optimizer, gamma=0.95)\n",
        "\n",
        "three_layer_encoded_l2_dropout_model, training_curves_three_layer_encoded_l2_dropout = train_model(\n",
        "    three_layer_encoded_l2_dropout_model,\n",
        "    dataloaders,\n",
        "    dataset_sizes,\n",
        "    criterion,\n",
        "    optimizer,\n",
        "    scheduler,\n",
        "    num_epochs=num_epochs\n",
        ")\n"
      ],
      "metadata": {
        "id": "PSENaofFfQhs"
      },
      "execution_count": null,
      "outputs": []
    },
    {
      "cell_type": "code",
      "source": [
        "plot_training_curves(training_curves_three_layer_encoded_l2_dropout, phases=['train', 'val', 'test'])"
      ],
      "metadata": {
        "id": "uxjsZO5sgQ4K"
      },
      "execution_count": null,
      "outputs": []
    },
    {
      "cell_type": "code",
      "source": [
        "res = plot_cm(three_layer_model, device, dataloaders, phase='test')"
      ],
      "metadata": {
        "id": "ijDH58ciq3x_"
      },
      "execution_count": null,
      "outputs": []
    },
    {
      "cell_type": "markdown",
      "source": [
        "# Final Model Section / Submission\n",
        "\n",
        "I have tried mainly three different architectures to generate this multi-classifier for MNIST handwritten digits.\n",
        "\n",
        "* Model 1: 2 hidden layers (512 * 256 neurons in hidden layers)\n",
        "* Model 2: 3 hidden layers\n",
        "* Model 3: 3 hidden layers with dropout\n",
        "\n",
        "---\n",
        "\n",
        "\n",
        "Of all the 3, the one that performed better based on Accuracy, was **Model 1**, with 2 hidden layers and no regularization or dropout\n",
        "\n",
        "\n",
        "\n",
        "> **Training complete in 5m 37s**\n",
        "\n",
        "> **Best val Acc: 0.980600 at epoch 17**\n",
        "\n",
        "\n"
      ],
      "metadata": {
        "id": "PT7UPeoPzrYv"
      }
    },
    {
      "cell_type": "code",
      "metadata": {
        "id": "b8590975"
      },
      "source": [],
      "execution_count": 43,
      "outputs": []
    }
  ],
  "metadata": {
    "accelerator": "GPU",
    "colab": {
      "provenance": [],
      "include_colab_link": true
    },
    "kernelspec": {
      "display_name": "Python 3 (ipykernel)",
      "language": "python",
      "name": "python3"
    },
    "language_info": {
      "codemirror_mode": {
        "name": "ipython",
        "version": 3
      },
      "file_extension": ".py",
      "mimetype": "text/x-python",
      "name": "python",
      "nbconvert_exporter": "python",
      "pygments_lexer": "ipython3",
      "version": "3.13.5"
    }
  },
  "nbformat": 4,
  "nbformat_minor": 0
}