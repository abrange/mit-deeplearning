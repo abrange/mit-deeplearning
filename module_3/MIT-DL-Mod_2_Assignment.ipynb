{
 "cells": [
  {
   "cell_type": "markdown",
   "id": "9fd36ac1-f1e6-4a0d-94b4-1f0000aba1e4",
   "metadata": {},
   "source": [
    "# Assignment 3 - Alvaro Brange"
   ]
  }
 ],
 "metadata": {
  "kernelspec": {
   "display_name": "Python 3 (ipykernel)",
   "language": "python",
   "name": "python3"
  },
  "language_info": {
   "codemirror_mode": {
    "name": "ipython",
    "version": 3
   },
   "file_extension": ".py",
   "mimetype": "text/x-python",
   "name": "python",
   "nbconvert_exporter": "python",
   "pygments_lexer": "ipython3",
   "version": "3.13.5"
  }
 },
 "nbformat": 4,
 "nbformat_minor": 5
}
