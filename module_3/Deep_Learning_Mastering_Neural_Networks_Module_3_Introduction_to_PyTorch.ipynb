{
 "cells": [
  {
   "cell_type": "markdown",
   "metadata": {
    "colab_type": "text",
    "id": "view-in-github"
   },
   "source": [
    "<a href=\"https://colab.research.google.com/github/abrange/mit-deeplearning/blob/main/module_3/Deep_Learning_Mastering_Neural_Networks_Module_3_Introduction_to_PyTorch.ipynb\" target=\"_parent\"><img src=\"https://colab.research.google.com/assets/colab-badge.svg\" alt=\"Open In Colab\"/></a>"
   ]
  },
  {
   "cell_type": "markdown",
   "metadata": {
    "id": "DjYDWVa3V4Tu"
   },
   "source": [
    "# **Module 3: Introduction to PyTorch**\n",
    "\n",
    "## Introduction\n",
    "[Pytorch](https://pytorch.org/) is an optimized tensor library for deep learning using GPUs and CPUs. Tensors are a specialized data structure that are very similar to arrays and matrices. Tensors are similar to NumPy’s ndarrays, except that tensors can run on GPUs or other hardware accelerators. The ability to leverage GPUs for model training provides faster and more efficient computations than what CPUs provide. Additionally, tensors have some incredible powerful gradient calculation built in which greatly simplifies your code.\n",
    "\n",
    "In this notebook we will give a brief introduction to using Pytorch and tensors to better prepare us for using them for Deep Learning in subsequent notebooks."
   ]
  },
  {
   "cell_type": "markdown",
   "metadata": {
    "id": "9fm9PcH9l7OF"
   },
   "source": [
    "## Tensors"
   ]
  },
  {
   "cell_type": "code",
   "execution_count": 1,
   "metadata": {
    "id": "S982Co0hU4KB"
   },
   "outputs": [],
   "source": [
    "import torch\n",
    "import numpy as np\n",
    "import matplotlib.pyplot as plt"
   ]
  },
  {
   "cell_type": "markdown",
   "metadata": {
    "id": "gKoQrkIRibH7"
   },
   "source": [
    "Tensor created directly from a list. The data type is automatically inferred."
   ]
  },
  {
   "cell_type": "code",
   "execution_count": 2,
   "metadata": {
    "colab": {
     "base_uri": "https://localhost:8080/"
    },
    "id": "0JoFxDrziLft",
    "outputId": "58420b2e-5f20-495c-97c8-40faa9628d9a"
   },
   "outputs": [
    {
     "name": "stdout",
     "output_type": "stream",
     "text": [
      "tensor([[1, 2, 3],\n",
      "        [4, 5, 6],\n",
      "        [7, 8, 9]])\n"
     ]
    }
   ],
   "source": [
    "data = [[1, 2, 3], [4, 5, 6], [7, 8, 9]]\n",
    "tensor_data = torch.tensor(data)\n",
    "print(tensor_data)"
   ]
  },
  {
   "cell_type": "markdown",
   "metadata": {
    "id": "O-fcEJo8ijwq"
   },
   "source": [
    "Tensor created from a NumPy array."
   ]
  },
  {
   "cell_type": "code",
   "execution_count": 3,
   "metadata": {
    "colab": {
     "base_uri": "https://localhost:8080/"
    },
    "id": "8RAmdH0eirEH",
    "outputId": "b81ce15d-cce9-4b5d-88bf-bab48d22123e"
   },
   "outputs": [
    {
     "name": "stdout",
     "output_type": "stream",
     "text": [
      "tensor([[1, 2, 3],\n",
      "        [4, 5, 6],\n",
      "        [7, 8, 9]])\n"
     ]
    }
   ],
   "source": [
    "np_array = np.array(data)\n",
    "tensor_np = torch.from_numpy(np_array)\n",
    "print(tensor_np)"
   ]
  },
  {
   "cell_type": "markdown",
   "metadata": {
    "id": "TQaEudgTjVmu"
   },
   "source": [
    "New tensors can be created from other tensors. The new tensor retains the properties (shape, datatype) of the argument tensor, unless explicitly overridden."
   ]
  },
  {
   "cell_type": "code",
   "execution_count": 4,
   "metadata": {
    "colab": {
     "base_uri": "https://localhost:8080/"
    },
    "id": "4bv283h9jYM7",
    "outputId": "bc8f528c-3897-4bf7-a07a-a62fe2eb586b"
   },
   "outputs": [
    {
     "name": "stdout",
     "output_type": "stream",
     "text": [
      "Zeros Tensor: \n",
      " tensor([[0, 0, 0],\n",
      "        [0, 0, 0],\n",
      "        [0, 0, 0]]) \n",
      "\n",
      "Ones Tensor: \n",
      " tensor([[1, 1, 1],\n",
      "        [1, 1, 1],\n",
      "        [1, 1, 1]]) \n",
      "\n",
      "Random Tensor: \n",
      " tensor([[0.6734, 0.5066, 0.4177],\n",
      "        [0.0651, 0.1114, 0.3495],\n",
      "        [0.5846, 0.8685, 0.4607]]) \n",
      "\n"
     ]
    }
   ],
   "source": [
    "x_zeros = torch.zeros_like(tensor_data) # retains the properties of tensor_data\n",
    "print(f\"Zeros Tensor: \\n {x_zeros} \\n\")\n",
    "\n",
    "x_ones = torch.ones_like(tensor_data) # retains the properties of tensor_data\n",
    "print(f\"Ones Tensor: \\n {x_ones} \\n\")\n",
    "\n",
    "x_rand = torch.rand_like(tensor_data, dtype=torch.float) # overrides the datatype of tensor_data\n",
    "print(f\"Random Tensor: \\n {x_rand} \\n\")"
   ]
  },
  {
   "cell_type": "markdown",
   "metadata": {
    "id": "853MH6qKkxLq"
   },
   "source": [
    "Tensor can also be created from random or constant values.\n",
    "In the functions below, we pass in a tuple, shape, which specifies the dimension of the output tensor."
   ]
  },
  {
   "cell_type": "code",
   "execution_count": 5,
   "metadata": {
    "colab": {
     "base_uri": "https://localhost:8080/"
    },
    "id": "_sz-BFYyj2Ud",
    "outputId": "57671664-88c6-4cbd-db1d-0a185d05b540"
   },
   "outputs": [
    {
     "name": "stdout",
     "output_type": "stream",
     "text": [
      "Zeros Tensor: \n",
      " tensor([[0., 0.],\n",
      "        [0., 0.],\n",
      "        [0., 0.]])\n",
      "Ones Tensor: \n",
      " tensor([[1., 1.],\n",
      "        [1., 1.],\n",
      "        [1., 1.]]) \n",
      "\n",
      "Random Tensor: \n",
      " tensor([[0.9810, 0.7585],\n",
      "        [0.1663, 0.7081],\n",
      "        [0.6784, 0.8167]]) \n",
      "\n"
     ]
    }
   ],
   "source": [
    "shape = (3, 2,)\n",
    "zeros_tensor = torch.zeros(shape)\n",
    "ones_tensor = torch.ones(shape)\n",
    "rand_tensor = torch.rand(shape)\n",
    "\n",
    "\n",
    "print(f\"Zeros Tensor: \\n {zeros_tensor}\")\n",
    "print(f\"Ones Tensor: \\n {ones_tensor} \\n\")\n",
    "print(f\"Random Tensor: \\n {rand_tensor} \\n\")"
   ]
  },
  {
   "cell_type": "markdown",
   "metadata": {
    "id": "XI0wuEkemCDF"
   },
   "source": [
    "Along with displaying the values of the tensor like we have above, we can print out additional attributes of the tensor which will be helpful for using it. We've seen the concepts of *shape* and *datatype* in previous notebooks, and now we will introduce a new concept known as *device*. ***Device*** in this context specifies where calculations are run. Typically, CPUs (central processing unit) are used by default as it's essentially the brain of any computing device, carrying out the instructions of a program by performing control, logical, and input/output (I/O) operations. GPUs (graphical processing unit) have smaller-sized but many more logical cores (arithmetic logic units or ALUs, control units and memory cache) whose basic design is to process a set of simpler and more identical computations in parallel.   "
   ]
  },
  {
   "cell_type": "code",
   "execution_count": 6,
   "metadata": {
    "colab": {
     "base_uri": "https://localhost:8080/"
    },
    "id": "g4J_bftel_9O",
    "outputId": "8ba2c346-3cd2-4013-afe7-08e1325f58fe"
   },
   "outputs": [
    {
     "name": "stdout",
     "output_type": "stream",
     "text": [
      "Shape of tensor: torch.Size([3, 2])\n",
      "Datatype of tensor: torch.float32\n",
      "Device tensor is stored on: cpu\n"
     ]
    }
   ],
   "source": [
    "print(f\"Shape of tensor: {rand_tensor.shape}\")\n",
    "print(f\"Datatype of tensor: {rand_tensor.dtype}\")\n",
    "print(f\"Device tensor is stored on: {rand_tensor.device}\")"
   ]
  },
  {
   "cell_type": "markdown",
   "metadata": {
    "id": "JG664MUWnX6e"
   },
   "source": [
    "GPUs usually perform machine learning tasks quicker and more efficiently than CPUs, so we prefer using them whenever we're able to.\n",
    "Nvidia created a parallel computing architecture and platform for its GPUs called CUDA, which gave developers access and the ability to express simple processing operations in parallel through code. The rand_tensor is currently stored on CPU. If you’re using Colab, allocate a GPU by going to Edit > Notebook Settings. The below code will switch the device used from CPU to GPU if available."
   ]
  },
  {
   "cell_type": "code",
   "execution_count": 7,
   "metadata": {
    "colab": {
     "base_uri": "https://localhost:8080/"
    },
    "id": "oVKzN3GIjMdL",
    "outputId": "d6d2d080-3393-46a3-c1ce-96e4a601e24e"
   },
   "outputs": [],
   "source": [
    "if torch.cuda.is_available():\n",
    "  tensor = rand_tensor.to('cuda')\n",
    "  print(f\"Device tensor is stored on: {tensor.device}\")"
   ]
  },
  {
   "cell_type": "markdown",
   "metadata": {
    "id": "-JdJLa7OmH09"
   },
   "source": [
    "## Gradients\n",
    "\n",
    "The below example is pulled from: https://pytorch.org/tutorials/beginner/basics/autogradqs_tutorial.html\n",
    "\n",
    "When training neural networks, the most frequently used algorithm is back propagation. In this algorithm, parameters (model weights) are adjusted according to the gradient of the loss function with respect to the given parameter.\n",
    "\n",
    "To compute those gradients, PyTorch has a built-in differentiation engine called torch.autograd. It supports automatic computation of gradient for any computational graph.\n",
    "\n",
    "Consider the simplest one-layer neural network, with input x, parameters w and b, and some loss function. It can be defined in PyTorch in the following manner:"
   ]
  },
  {
   "cell_type": "code",
   "execution_count": 8,
   "metadata": {
    "colab": {
     "base_uri": "https://localhost:8080/"
    },
    "id": "nWhRW_LBtin5",
    "outputId": "5b127522-c706-465c-8a69-203213b3ee24"
   },
   "outputs": [
    {
     "name": "stdout",
     "output_type": "stream",
     "text": [
      "loss: tensor(2.1646, grad_fn=<BinaryCrossEntropyWithLogitsBackward0>)\n"
     ]
    }
   ],
   "source": [
    "import torch\n",
    "\n",
    "x = torch.ones(5)  # input tensor\n",
    "y = torch.zeros(3)  # expected output\n",
    "w = torch.randn(5, 3, requires_grad=True)\n",
    "b = torch.randn(3, requires_grad=True)\n",
    "z = torch.matmul(x, w)+b\n",
    "loss = torch.nn.functional.binary_cross_entropy_with_logits(z, y)\n",
    "\n",
    "print(\"loss:\", loss)"
   ]
  },
  {
   "cell_type": "markdown",
   "metadata": {
    "id": "F79eOVbzwVmZ"
   },
   "source": [
    "A function that we apply to tensors to construct computational graph is in fact an object of class Function. This object knows how to compute the function in the forward direction, and also how to compute its derivative during the backward propagation step. A reference to the backward propagation function is stored in grad_fn property of a tensor. You can find more information of Function in the documentation."
   ]
  },
  {
   "cell_type": "code",
   "execution_count": 9,
   "metadata": {
    "colab": {
     "base_uri": "https://localhost:8080/"
    },
    "id": "1YFcXNXowQY-",
    "outputId": "0dc0a17c-e61a-40cf-c19c-69e9e2ea2da0"
   },
   "outputs": [
    {
     "name": "stdout",
     "output_type": "stream",
     "text": [
      "Gradient function for z = <AddBackward0 object at 0x10651c9d0>\n",
      "Gradient function for loss = <BinaryCrossEntropyWithLogitsBackward0 object at 0x137c4ae90>\n"
     ]
    }
   ],
   "source": [
    "print(f\"Gradient function for z = {z.grad_fn}\")\n",
    "print(f\"Gradient function for loss = {loss.grad_fn}\")"
   ]
  },
  {
   "cell_type": "markdown",
   "metadata": {
    "id": "_b_XyUptwZmJ"
   },
   "source": [
    "To optimize weights of parameters in the neural network, we need to compute the derivatives of our loss function with respect to parameters, namely, we need $\\frac{\\partial loss}{\\partial w}$\n",
    "  and $\\frac{\\partial loss}{\\partial b}$\n",
    "  under some fixed values of x and y. To compute those derivatives, we call loss.backward(), and then retrieve the values from w.grad and b.grad:"
   ]
  },
  {
   "cell_type": "code",
   "execution_count": 10,
   "metadata": {
    "colab": {
     "base_uri": "https://localhost:8080/"
    },
    "id": "rRTeQITrwbgk",
    "outputId": "e13584e1-ab8d-4801-c475-af97765de879"
   },
   "outputs": [
    {
     "name": "stdout",
     "output_type": "stream",
     "text": [
      "tensor([[0.3194, 0.0146, 0.3207],\n",
      "        [0.3194, 0.0146, 0.3207],\n",
      "        [0.3194, 0.0146, 0.3207],\n",
      "        [0.3194, 0.0146, 0.3207],\n",
      "        [0.3194, 0.0146, 0.3207]])\n",
      "tensor([0.3194, 0.0146, 0.3207])\n"
     ]
    }
   ],
   "source": [
    "loss.backward()\n",
    "print(w.grad)\n",
    "print(b.grad)"
   ]
  },
  {
   "cell_type": "markdown",
   "metadata": {
    "id": "BpW79qRkmeK3"
   },
   "source": [
    "## Optimization\n",
    "\n",
    "By using the auto-differentiation powers of PyTorch, we can easily perform the optimization tasks necessary for training large neural networks. In the code snippet below, we plot a function and its corresponding derivative to visualize this.\n",
    "\n",
    "Our goal in deep learning is to minimize our loss function, and by looking at this simple plot we can see how the derivative can inform us of the minimum value of a given function.\n",
    "\n",
    "*Note the use of .detach.numpy() to get a value back from the tensor and device, into a numpy array, for plotting."
   ]
  },
  {
   "cell_type": "code",
   "execution_count": 11,
   "metadata": {
    "colab": {
     "base_uri": "https://localhost:8080/",
     "height": 279
    },
    "id": "nu0uilzUy3nM",
    "outputId": "03e6bffb-5e75-4c6b-e7ef-3ea7abe03120"
   },
   "outputs": [
    {
     "data": {
      "image/png": "[encoded data removed]",
      "text/plain": [
       "<Figure size 640x480 with 1 Axes>"
      ]
     },
     "metadata": {},
     "output_type": "display_data"
    }
   ],
   "source": [
    "# compute the derivative of the function with multiple values\n",
    "x = torch.linspace(-20, 20, 20, requires_grad = True)\n",
    "Y = 5*x ** 2\n",
    "y = torch.sum(Y)\n",
    "y.backward()\n",
    "\n",
    "# ploting the function and derivative\n",
    "function_line, = plt.plot(x.detach().numpy(), Y.detach().numpy(), label = 'Function')\n",
    "function_line.set_color(\"red\")\n",
    "derivative_line, = plt.plot(x.detach().numpy(), x.grad.detach().numpy(), label = 'Derivative')\n",
    "derivative_line.set_color(\"green\")\n",
    "plt.xlabel('x')\n",
    "plt.legend()\n",
    "plt.show()"
   ]
  },
  {
   "cell_type": "markdown",
   "metadata": {
    "id": "doTU0oTMLQhp"
   },
   "source": [
    "## Looking Ahead\n",
    "\n",
    "As we have seen, tensors can be extremely powerful and can greatly simplify the implementation of our programs. We will build on this auto-gradient framework and apply it to more complex neural networks in the following modules. If you would like more information on Tensors and Pytorch as a whole, make sure to check out their tutorial and docs which can be found [here](https://pytorch.org/tutorials/beginner/basics/intro.html)."
   ]
  }
 ],
 "metadata": {
  "accelerator": "GPU",
  "colab": {
   "include_colab_link": true,
   "provenance": []
  },
  "gpuClass": "standard",
  "kernelspec": {
   "display_name": "Python 3 (ipykernel)",
   "language": "python",
   "name": "python3"
  },
  "language_info": {
   "codemirror_mode": {
    "name": "ipython",
    "version": 3
   },
   "file_extension": ".py",
   "mimetype": "text/x-python",
   "name": "python",
   "nbconvert_exporter": "python",
   "pygments_lexer": "ipython3",
   "version": "3.13.5"
  }
 },
 "nbformat": 4,
 "nbformat_minor": 4
}
