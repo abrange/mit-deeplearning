{
 "cells": [
  {
   "cell_type": "markdown",
   "metadata": {
    "colab_type": "text",
    "id": "view-in-github"
   },
   "source": [
    "<a href=\"https://colab.research.google.com/github/abrange/mit-deeplearning/blob/main/module_5/Deep_Learning_Mastering_Neural_Networks_Module_5_Introduction_to_RNNs_and_NLP_in_PyTorch.ipynb\" target=\"_parent\"><img src=\"https://colab.research.google.com/assets/colab-badge.svg\" alt=\"Open In Colab\"/></a>"
   ]
  },
  {
   "cell_type": "markdown",
   "metadata": {
    "id": "aZVJ8gUn1RR9"
   },
   "source": [
    "# Deep Learning: Mastering Neural Networks - Module 5: Introduction to RNNs and NLP in PyTorch\n",
    "\n",
    "Up until this point, we have yet to apply the power of PyTorch to solving Natural Language Processing (NLP) problems. The field of NLP is an extremely exciting space to apply Deep Learning techniques. Just like in Computer Vision, there are different classes of NLP problems. These include classification, summarization, sequence to sequence mapping, and others. Eventually, we would like to implement a model that solves an extremely popular sequence to sequence mapping problem: Machine Translation. In order to build our NLP toolset though, we will first examine the simpler tasks of word and sentence completion."
   ]
  },
  {
   "cell_type": "markdown",
   "metadata": {
    "id": "ptJiFULG2AiJ"
   },
   "source": [
    "## Problem Definition\n",
    "\n",
    "Sequence to Sequence Mapping problems are inherently different than the supervised learning tasks we have solved in the past. In Image Classification, there is a singular image with a singular class label, a one-to-one mapping between the input and output. In sequence to sequence mapping, our input consists of many discrete samples, or in our case - characters. Additionally, our output is a sequence of characters.\n"
   ]
  },
  {
   "cell_type": "markdown",
   "metadata": {
    "id": "cu4mucQioGZA"
   },
   "source": [
    "## Dataset\n",
    "\n",
    "For our dataset, we will use a database of English-Spanish phrase pairs. Eventually we will use this same dataset for our machine translation task but first we will just be examining the English phrases.\n",
    "\n",
    "The PyTorch Tutorial - [NLP From Scratch](https://pytorch.org/tutorials/intermediate/seq2seq_translation_tutorial.html) uses an English-French dataset for a translation task and was the inspiration for our use of this dataset. We will perform some similar dataset cleaning and utility functions as they do in their tutorial."
   ]
  },
  {
   "cell_type": "code",
   "execution_count": 1,
   "metadata": {
    "id": "yrzZRul42zJs"
   },
   "outputs": [],
   "source": [
    "from io import open\n",
    "import unicodedata\n",
    "import string\n",
    "import random\n",
    "import re\n",
    "\n",
    "import torch\n",
    "import torch.nn as nn\n",
    "import numpy as np\n",
    "from torch.utils.data import Subset\n",
    "from torch.utils.data import TensorDataset, DataLoader\n",
    "import time, copy\n",
    "import matplotlib.pyplot as plt\n",
    "import sklearn.metrics as metrics\n",
    "\n",
    "device = torch.device(\"cuda\" if torch.cuda.is_available() else \"cpu\")"
   ]
  },
  {
   "cell_type": "code",
   "execution_count": 2,
   "metadata": {
    "colab": {
     "base_uri": "https://localhost:8080/"
    },
    "id": "FoRgk40z3kJk",
    "outputId": "4517b569-d5ad-4391-d5b6-6183226745a5"
   },
   "outputs": [
    {
     "name": "stdout",
     "output_type": "stream",
     "text": [
      "--2025-07-27 22:54:40--  https://www.manythings.org/anki/spa-eng.zip\n",
      "Resolving www.manythings.org (www.manythings.org)... 173.254.30.110\n",
      "Connecting to www.manythings.org (www.manythings.org)|173.254.30.110|:443... connected.\n",
      "HTTP request sent, awaiting response... 200 OK\n",
      "Length: 5453910 (5.2M) [application/zip]\n",
      "Saving to: ‘spa-eng.zip’\n",
      "\n",
      "spa-eng.zip         100%[===================>]   5.20M  7.44MB/s    in 0.7s    \n",
      "\n",
      "2025-07-27 22:54:41 (7.44 MB/s) - ‘spa-eng.zip’ saved [5453910/5453910]\n",
      "\n",
      "Archive:  spa-eng.zip\n",
      "  inflating: _about.txt              \n",
      "  inflating: spa.txt                 \n",
      "_about.txt\n",
      "Deep_Learning_Mastering_Neural_Networks_Module_5_Assignment.ipynb\n",
      "Deep_Learning_Mastering_Neural_Networks_Module_5_Introduction_to_RNNs_and_NLP_in_PyTorch.ipynb\n",
      "spa-eng.zip\n",
      "spa.txt\n"
     ]
    }
   ],
   "source": [
    "# Here we download and unzip the text file that contains all of our translated phrases\n",
    "!rm spa-eng.zip _about.txt spa.txt\n",
    "!wget https://www.manythings.org/anki/spa-eng.zip\n",
    "!unzip spa-eng.zip\n",
    "!ls"
   ]
  },
  {
   "cell_type": "markdown",
   "metadata": {
    "id": "3KUUMOgBsqIq"
   },
   "source": [
    "These helper functions will clean our dataset and ensure the phrases can be used by our neural network. For more information please check out the link in the comments."
   ]
  },
  {
   "cell_type": "code",
   "execution_count": 3,
   "metadata": {
    "id": "66lR-Qyl8BYs"
   },
   "outputs": [],
   "source": [
    "# Helper functions combined from PyTorch tutorial: https://pytorch.org/tutorials/intermediate/seq2seq_translation_tutorial.html\n",
    "\n",
    "# Turn a Unicode string to plain ASCII, thanks to\n",
    "# https://stackoverflow.com/a/518232/2809427\n",
    "def unicodeToAscii(s):\n",
    "    return ''.join(\n",
    "        c for c in unicodedata.normalize('NFD', s)\n",
    "        if unicodedata.category(c) != 'Mn'\n",
    "    )\n",
    "\n",
    "# Lowercase, trim, and remove non-letter characters\n",
    "# This is important because we want all words to be formatted the same similar\n",
    "# to our image normalization\n",
    "def normalizeString(s):\n",
    "    s = unicodeToAscii(s.lower().strip())\n",
    "    s = re.sub(r\"([.!?])\", r\" \\1\", s)\n",
    "    s = re.sub(r\"[^a-zA-Z.!'?]+\", r\" \", s)\n",
    "    return s\n",
    "\n",
    "def parse_data(filename):\n",
    "    # Read the file and split into lines\n",
    "    lines = open(filename, encoding='utf-8').read().strip().split('\\n')\n",
    "\n",
    "    # Split every line into pairs and normalize\n",
    "    pairs = [[normalizeString(s) for s in l.split('\\t')] for l in lines]\n",
    "    # Throw out the attribution as it is not a part of the data\n",
    "    pairs = [[pair[0], pair[1]] for pair in pairs]\n",
    "\n",
    "    return pairs"
   ]
  },
  {
   "cell_type": "code",
   "execution_count": 4,
   "metadata": {
    "colab": {
     "base_uri": "https://localhost:8080/"
    },
    "id": "Ti0WFHKX9-k-",
    "outputId": "0414f508-539e-4596-aaf0-7798de4f8936"
   },
   "outputs": [
    {
     "name": "stdout",
     "output_type": "stream",
     "text": [
      "Number of English sentences: 142511\n"
     ]
    }
   ],
   "source": [
    "pairs = parse_data(\"spa.txt\")\n",
    "# We only want the english sentences because we aren't translating\n",
    "english_sentences = [pair[0] for pair in pairs]\n",
    "# Shuffle our dataset\n",
    "random.shuffle(english_sentences)\n",
    "print(\"Number of English sentences:\", len(english_sentences))"
   ]
  },
  {
   "cell_type": "code",
   "execution_count": 5,
   "metadata": {
    "id": "IxR_MgYJ3-dt"
   },
   "outputs": [],
   "source": [
    "# We will include all ascii letters and some common characters for our valid character set\n",
    "letters = string.ascii_letters + \" .,;'-\"\n",
    "num_letters = len(letters) + 1 # Need to add 1 for the End Tag"
   ]
  },
  {
   "cell_type": "code",
   "execution_count": 6,
   "metadata": {},
   "outputs": [
    {
     "name": "stdout",
     "output_type": "stream",
     "text": [
      "59\n"
     ]
    },
    {
     "data": {
      "text/plain": [
       "\"abcdefghijklmnopqrstuvwxyzABCDEFGHIJKLMNOPQRSTUVWXYZ .,;'-\""
      ]
     },
     "execution_count": 6,
     "metadata": {},
     "output_type": "execute_result"
    }
   ],
   "source": [
    "print(num_letters)\n",
    "letters"
   ]
  },
  {
   "cell_type": "markdown",
   "metadata": {
    "id": "oxGSbaJKzoHj"
   },
   "source": [
    "## Word Completion\n",
    "\n",
    "For our first pass, we will take a sample of the words from our sentences and predict complete words given a subset of characters!"
   ]
  },
  {
   "cell_type": "code",
   "execution_count": 7,
   "metadata": {
    "id": "BngUGRRE-8P0"
   },
   "outputs": [],
   "source": [
    "# Strip all of our phrases down to words and throw out '.'\n",
    "words = [word for sentence in english_sentences for word in sentence.split(' ') if word not in ['.', '!', '?'] and len(word) > 0 and '\\'' not in word]\n",
    "\n",
    "# Since we already shuffled our dataset, grab a random sampling of words for our train, val, and test\n",
    "train_words = words[:20000]\n",
    "val_words = words[20000:25000]\n",
    "test_words = words[25000:30000]"
   ]
  },
  {
   "cell_type": "code",
   "execution_count": 8,
   "metadata": {},
   "outputs": [
    {
     "data": {
      "text/plain": [
       "['was',\n",
       " 'more',\n",
       " 'than',\n",
       " 'satisfied',\n",
       " 'not',\n",
       " 'all',\n",
       " 'books',\n",
       " 'are',\n",
       " 'worth',\n",
       " 'reading',\n",
       " 'i',\n",
       " 'go',\n",
       " 'but',\n",
       " 'stayed',\n",
       " 'at',\n",
       " 'home',\n",
       " 'the',\n",
       " 'catch',\n",
       " 'tom',\n",
       " 'has']"
      ]
     },
     "execution_count": 8,
     "metadata": {},
     "output_type": "execute_result"
    }
   ],
   "source": [
    "test_words[:20]"
   ]
  },
  {
   "cell_type": "markdown",
   "metadata": {
    "id": "pszv87RStebQ"
   },
   "source": [
    "### Encoding\n",
    "\n",
    "Now that we have all of our words in string format, we need to encode them in a representation that the neural network can understand. We will create a one hot encoding vector for each character and concatenate those to represent a specific word for our input training samples.\n",
    "\n",
    "Since we are using a RNN, we will be feeding each of these character vectors in one at a time. The goal of the RNN is to predict the *next* character in the word. This allows the network to generate a word given a single letter or a prefix. Additionally, we need the network to learn when the end of a word is. To achieve this, we will designate a special character for the end of a given sequence (`<EOS>`) that should be predicted by the last character in a word.\n",
    "\n",
    "Therefore, we will designate two tensor sequences. First we create the `input_tensor` which is represented as the concatenation of the one hot encoding vectors for each character. The second tensor sequence, `target_tensor` contains the one hot encoding vector for the target characters corresponding to each character in the input tensor. For example, the `input_tensor`,`target_tensor` character correspondance for the word \"apple\" is:\n",
    "\n",
    "`input_tensor = \"apple\"`\n",
    "\n",
    "`target_tensor = \"pple<EOS>`\n",
    "\n"
   ]
  },
  {
   "cell_type": "code",
   "execution_count": 9,
   "metadata": {
    "id": "3MLDsB9KSYvQ"
   },
   "outputs": [],
   "source": [
    "# Now make our training samples:\n",
    "\n",
    "# Adapted from https://pytorch.org/tutorials/intermediate/char_rnn_generation_tutorial.html\n",
    "# One-hot matrix of first to last letters (not including EOS) for input\n",
    "def input_tensor(word):\n",
    "    tensor = torch.zeros(len(word), 1, num_letters)\n",
    "    for idx in range(len(word)):\n",
    "        letter = word[idx]\n",
    "        tensor[idx][0][letters.find(letter)] = 1\n",
    "    return tensor\n",
    "\n",
    "# LongTensor of second letter to end (EOS) for target\n",
    "def target_tensor(word):\n",
    "    tensor = torch.zeros(len(word), 1, num_letters)\n",
    "    for idx in range(1, len(word)):\n",
    "        letter = word[idx]\n",
    "        tensor[idx-1][0][letters.find(letter)] = 1\n",
    "    tensor[len(word)-1][0][num_letters-1] = 1 # EOS\n",
    "    return tensor\n",
    "\n",
    "train_input = [input_tensor(word) for word in train_words]\n",
    "train_target = [target_tensor(word) for word in train_words]\n",
    "val_input = [input_tensor(word) for word in val_words]\n",
    "val_target = [target_tensor(word) for word in val_words]\n",
    "test_input = [input_tensor(word) for word in test_words]\n",
    "test_target = [target_tensor(word) for word in test_words]"
   ]
  },
  {
   "cell_type": "code",
   "execution_count": 10,
   "metadata": {
    "colab": {
     "base_uri": "https://localhost:8080/"
    },
    "id": "xqsnvhHEaWCF",
    "outputId": "fc2a563d-6a58-410e-be4b-cb22eb494c53"
   },
   "outputs": [
    {
     "name": "stdout",
     "output_type": "stream",
     "text": [
      "i [encode as] tensor([[[0., 0., 0., 0., 0., 0., 0., 0., 1., 0., 0., 0., 0., 0., 0., 0., 0.,\n",
      "          0., 0., 0., 0., 0., 0., 0., 0., 0., 0., 0., 0., 0., 0., 0., 0., 0.,\n",
      "          0., 0., 0., 0., 0., 0., 0., 0., 0., 0., 0., 0., 0., 0., 0., 0., 0.,\n",
      "          0., 0., 0., 0., 0., 0., 0., 0.]]])\n",
      "have [encode as] tensor([[[0., 0., 0., 0., 0., 0., 0., 1., 0., 0., 0., 0., 0., 0., 0., 0., 0.,\n",
      "          0., 0., 0., 0., 0., 0., 0., 0., 0., 0., 0., 0., 0., 0., 0., 0., 0.,\n",
      "          0., 0., 0., 0., 0., 0., 0., 0., 0., 0., 0., 0., 0., 0., 0., 0., 0.,\n",
      "          0., 0., 0., 0., 0., 0., 0., 0.]],\n",
      "\n",
      "        [[1., 0., 0., 0., 0., 0., 0., 0., 0., 0., 0., 0., 0., 0., 0., 0., 0.,\n",
      "          0., 0., 0., 0., 0., 0., 0., 0., 0., 0., 0., 0., 0., 0., 0., 0., 0.,\n",
      "          0., 0., 0., 0., 0., 0., 0., 0., 0., 0., 0., 0., 0., 0., 0., 0., 0.,\n",
      "          0., 0., 0., 0., 0., 0., 0., 0.]],\n",
      "\n",
      "        [[0., 0., 0., 0., 0., 0., 0., 0., 0., 0., 0., 0., 0., 0., 0., 0., 0.,\n",
      "          0., 0., 0., 0., 1., 0., 0., 0., 0., 0., 0., 0., 0., 0., 0., 0., 0.,\n",
      "          0., 0., 0., 0., 0., 0., 0., 0., 0., 0., 0., 0., 0., 0., 0., 0., 0.,\n",
      "          0., 0., 0., 0., 0., 0., 0., 0.]],\n",
      "\n",
      "        [[0., 0., 0., 0., 1., 0., 0., 0., 0., 0., 0., 0., 0., 0., 0., 0., 0.,\n",
      "          0., 0., 0., 0., 0., 0., 0., 0., 0., 0., 0., 0., 0., 0., 0., 0., 0.,\n",
      "          0., 0., 0., 0., 0., 0., 0., 0., 0., 0., 0., 0., 0., 0., 0., 0., 0.,\n",
      "          0., 0., 0., 0., 0., 0., 0., 0.]]])\n",
      "to [encode as] tensor([[[0., 0., 0., 0., 0., 0., 0., 0., 0., 0., 0., 0., 0., 0., 0., 0., 0.,\n",
      "          0., 0., 1., 0., 0., 0., 0., 0., 0., 0., 0., 0., 0., 0., 0., 0., 0.,\n",
      "          0., 0., 0., 0., 0., 0., 0., 0., 0., 0., 0., 0., 0., 0., 0., 0., 0.,\n",
      "          0., 0., 0., 0., 0., 0., 0., 0.]],\n",
      "\n",
      "        [[0., 0., 0., 0., 0., 0., 0., 0., 0., 0., 0., 0., 0., 0., 1., 0., 0.,\n",
      "          0., 0., 0., 0., 0., 0., 0., 0., 0., 0., 0., 0., 0., 0., 0., 0., 0.,\n",
      "          0., 0., 0., 0., 0., 0., 0., 0., 0., 0., 0., 0., 0., 0., 0., 0., 0.,\n",
      "          0., 0., 0., 0., 0., 0., 0., 0.]]])\n",
      "get [encode as] tensor([[[0., 0., 0., 0., 0., 0., 1., 0., 0., 0., 0., 0., 0., 0., 0., 0., 0.,\n",
      "          0., 0., 0., 0., 0., 0., 0., 0., 0., 0., 0., 0., 0., 0., 0., 0., 0.,\n",
      "          0., 0., 0., 0., 0., 0., 0., 0., 0., 0., 0., 0., 0., 0., 0., 0., 0.,\n",
      "          0., 0., 0., 0., 0., 0., 0., 0.]],\n",
      "\n",
      "        [[0., 0., 0., 0., 1., 0., 0., 0., 0., 0., 0., 0., 0., 0., 0., 0., 0.,\n",
      "          0., 0., 0., 0., 0., 0., 0., 0., 0., 0., 0., 0., 0., 0., 0., 0., 0.,\n",
      "          0., 0., 0., 0., 0., 0., 0., 0., 0., 0., 0., 0., 0., 0., 0., 0., 0.,\n",
      "          0., 0., 0., 0., 0., 0., 0., 0.]],\n",
      "\n",
      "        [[0., 0., 0., 0., 0., 0., 0., 0., 0., 0., 0., 0., 0., 0., 0., 0., 0.,\n",
      "          0., 0., 1., 0., 0., 0., 0., 0., 0., 0., 0., 0., 0., 0., 0., 0., 0.,\n",
      "          0., 0., 0., 0., 0., 0., 0., 0., 0., 0., 0., 0., 0., 0., 0., 0., 0.,\n",
      "          0., 0., 0., 0., 0., 0., 0., 0.]]])\n",
      "this [encode as] tensor([[[0., 0., 0., 0., 0., 0., 0., 0., 0., 0., 0., 0., 0., 0., 0., 0., 0.,\n",
      "          0., 0., 1., 0., 0., 0., 0., 0., 0., 0., 0., 0., 0., 0., 0., 0., 0.,\n",
      "          0., 0., 0., 0., 0., 0., 0., 0., 0., 0., 0., 0., 0., 0., 0., 0., 0.,\n",
      "          0., 0., 0., 0., 0., 0., 0., 0.]],\n",
      "\n",
      "        [[0., 0., 0., 0., 0., 0., 0., 1., 0., 0., 0., 0., 0., 0., 0., 0., 0.,\n",
      "          0., 0., 0., 0., 0., 0., 0., 0., 0., 0., 0., 0., 0., 0., 0., 0., 0.,\n",
      "          0., 0., 0., 0., 0., 0., 0., 0., 0., 0., 0., 0., 0., 0., 0., 0., 0.,\n",
      "          0., 0., 0., 0., 0., 0., 0., 0.]],\n",
      "\n",
      "        [[0., 0., 0., 0., 0., 0., 0., 0., 1., 0., 0., 0., 0., 0., 0., 0., 0.,\n",
      "          0., 0., 0., 0., 0., 0., 0., 0., 0., 0., 0., 0., 0., 0., 0., 0., 0.,\n",
      "          0., 0., 0., 0., 0., 0., 0., 0., 0., 0., 0., 0., 0., 0., 0., 0., 0.,\n",
      "          0., 0., 0., 0., 0., 0., 0., 0.]],\n",
      "\n",
      "        [[0., 0., 0., 0., 0., 0., 0., 0., 0., 0., 0., 0., 0., 0., 0., 0., 0.,\n",
      "          0., 1., 0., 0., 0., 0., 0., 0., 0., 0., 0., 0., 0., 0., 0., 0., 0.,\n",
      "          0., 0., 0., 0., 0., 0., 0., 0., 0., 0., 0., 0., 0., 0., 0., 0., 0.,\n",
      "          0., 0., 0., 0., 0., 0., 0., 0.]]])\n",
      "spade [encode as] tensor([[[0., 0., 0., 0., 0., 0., 0., 0., 0., 0., 0., 0., 0., 0., 0., 0., 0.,\n",
      "          0., 1., 0., 0., 0., 0., 0., 0., 0., 0., 0., 0., 0., 0., 0., 0., 0.,\n",
      "          0., 0., 0., 0., 0., 0., 0., 0., 0., 0., 0., 0., 0., 0., 0., 0., 0.,\n",
      "          0., 0., 0., 0., 0., 0., 0., 0.]],\n",
      "\n",
      "        [[0., 0., 0., 0., 0., 0., 0., 0., 0., 0., 0., 0., 0., 0., 0., 1., 0.,\n",
      "          0., 0., 0., 0., 0., 0., 0., 0., 0., 0., 0., 0., 0., 0., 0., 0., 0.,\n",
      "          0., 0., 0., 0., 0., 0., 0., 0., 0., 0., 0., 0., 0., 0., 0., 0., 0.,\n",
      "          0., 0., 0., 0., 0., 0., 0., 0.]],\n",
      "\n",
      "        [[1., 0., 0., 0., 0., 0., 0., 0., 0., 0., 0., 0., 0., 0., 0., 0., 0.,\n",
      "          0., 0., 0., 0., 0., 0., 0., 0., 0., 0., 0., 0., 0., 0., 0., 0., 0.,\n",
      "          0., 0., 0., 0., 0., 0., 0., 0., 0., 0., 0., 0., 0., 0., 0., 0., 0.,\n",
      "          0., 0., 0., 0., 0., 0., 0., 0.]],\n",
      "\n",
      "        [[0., 0., 0., 1., 0., 0., 0., 0., 0., 0., 0., 0., 0., 0., 0., 0., 0.,\n",
      "          0., 0., 0., 0., 0., 0., 0., 0., 0., 0., 0., 0., 0., 0., 0., 0., 0.,\n",
      "          0., 0., 0., 0., 0., 0., 0., 0., 0., 0., 0., 0., 0., 0., 0., 0., 0.,\n",
      "          0., 0., 0., 0., 0., 0., 0., 0.]],\n",
      "\n",
      "        [[0., 0., 0., 0., 1., 0., 0., 0., 0., 0., 0., 0., 0., 0., 0., 0., 0.,\n",
      "          0., 0., 0., 0., 0., 0., 0., 0., 0., 0., 0., 0., 0., 0., 0., 0., 0.,\n",
      "          0., 0., 0., 0., 0., 0., 0., 0., 0., 0., 0., 0., 0., 0., 0., 0., 0.,\n",
      "          0., 0., 0., 0., 0., 0., 0., 0.]]])\n"
     ]
    }
   ],
   "source": [
    "# Let's look at a few word encodings, to see what those look like:\n",
    "for i in range(6):\n",
    "    print(train_words[i], \"[encode as]\", train_input[i])"
   ]
  },
  {
   "cell_type": "code",
   "execution_count": 11,
   "metadata": {
    "colab": {
     "base_uri": "https://localhost:8080/"
    },
    "id": "AnIg_qVDQhy0",
    "outputId": "1a41c625-6bc9-47a1-e747-11db75414bcb"
   },
   "outputs": [
    {
     "name": "stdout",
     "output_type": "stream",
     "text": [
      "This code helps visualize which characters represent an input_tensor and its corresponding target_tensor\n",
      "i\n",
      "<EOS>\n",
      "have\n",
      "ave<EOS>\n",
      "to\n",
      "o<EOS>\n",
      "get\n",
      "et<EOS>\n",
      "this\n",
      "his<EOS>\n",
      "spade\n",
      "pade<EOS>\n",
      "fixed\n",
      "ixed<EOS>\n",
      "i\n",
      "<EOS>\n",
      "can\n",
      "an<EOS>\n",
      "fix\n",
      "ix<EOS>\n",
      "this\n",
      "his<EOS>\n",
      "i\n",
      "<EOS>\n",
      "believe\n",
      "elieve<EOS>\n",
      "what\n",
      "hat<EOS>\n",
      "i\n",
      "<EOS>\n",
      "was\n",
      "as<EOS>\n",
      "seeing\n",
      "eeing<EOS>\n",
      "the\n",
      "he<EOS>\n",
      "airplane\n",
      "irplane<EOS>\n",
      "was\n",
      "as<EOS>\n",
      "flying\n",
      "lying<EOS>\n",
      "above\n",
      "bove<EOS>\n",
      "the\n",
      "he<EOS>\n",
      "clouds\n",
      "louds<EOS>\n",
      "he\n",
      "e<EOS>\n",
      "hid\n",
      "id<EOS>\n",
      "his\n",
      "is<EOS>\n",
      "sadness\n",
      "adness<EOS>\n",
      "behind\n",
      "ehind<EOS>\n",
      "a\n",
      "<EOS>\n",
      "smile\n",
      "mile<EOS>\n",
      "i\n",
      "<EOS>\n",
      "felt\n",
      "elt<EOS>\n",
      "my\n",
      "y<EOS>\n",
      "heart\n",
      "eart<EOS>\n",
      "beating\n",
      "eating<EOS>\n",
      "violently\n",
      "iolently<EOS>\n",
      "when\n",
      "hen<EOS>\n",
      "was\n",
      "as<EOS>\n",
      "the\n",
      "he<EOS>\n",
      "last\n",
      "ast<EOS>\n",
      "time\n",
      "ime<EOS>\n",
      "it\n",
      "t<EOS>\n",
      "rained\n",
      "ained<EOS>\n",
      "here\n",
      "ere<EOS>\n",
      "the\n",
      "he<EOS>\n",
      "man\n",
      "an<EOS>\n",
      "slumped\n",
      "lumped<EOS>\n",
      "to\n",
      "o<EOS>\n",
      "the\n",
      "he<EOS>\n",
      "floor\n",
      "loor<EOS>\n",
      "he\n",
      "e<EOS>\n",
      "bought\n",
      "ought<EOS>\n",
      "the\n",
      "he<EOS>\n",
      "land\n",
      "and<EOS>\n",
      "for\n",
      "or<EOS>\n",
      "the\n",
      "he<EOS>\n",
      "purpose\n",
      "urpose<EOS>\n",
      "of\n",
      "f<EOS>\n",
      "building\n",
      "uilding<EOS>\n",
      "his\n",
      "is<EOS>\n",
      "house\n",
      "ouse<EOS>\n",
      "on\n",
      "n<EOS>\n",
      "it\n",
      "t<EOS>\n",
      "why\n",
      "hy<EOS>\n",
      "you\n",
      "ou<EOS>\n",
      "ask\n",
      "sk<EOS>\n",
      "tom\n",
      "om<EOS>\n",
      "directly\n",
      "irectly<EOS>\n",
      "what\n",
      "hat<EOS>\n",
      "a\n",
      "<EOS>\n",
      "stupid\n",
      "tupid<EOS>\n",
      "kid\n",
      "id<EOS>\n",
      "maybe\n",
      "aybe<EOS>\n",
      "not\n",
      "ot<EOS>\n",
      "as\n",
      "s<EOS>\n",
      "stupid\n",
      "tupid<EOS>\n",
      "as\n",
      "s<EOS>\n",
      "you\n",
      "ou<EOS>\n",
      "sound\n",
      "ound<EOS>\n",
      "he\n",
      "e<EOS>\n",
      "lost\n",
      "ost<EOS>\n",
      "hope\n",
      "ope<EOS>\n",
      "and\n",
      "nd<EOS>\n",
      "killed\n",
      "illed<EOS>\n",
      "himself\n",
      "imself<EOS>\n",
      "by\n",
      "y<EOS>\n",
      "taking\n",
      "aking<EOS>\n",
      "poison\n",
      "oison<EOS>\n",
      "not\n",
      "ot<EOS>\n",
      "even\n",
      "ven<EOS>\n",
      "funny\n",
      "unny<EOS>\n",
      "the\n",
      "he<EOS>\n",
      "wall\n",
      "all<EOS>\n",
      "is\n",
      "s<EOS>\n",
      "white\n",
      "hite<EOS>\n",
      "on\n",
      "n<EOS>\n",
      "the\n",
      "he<EOS>\n",
      "inside\n",
      "nside<EOS>\n",
      "and\n",
      "nd<EOS>\n"
     ]
    }
   ],
   "source": [
    "# Now let's look at the pairing of the input_tensors to the target_tensors\n",
    "def input_tensor_to_word(tensor):\n",
    "    word = \"\"\n",
    "    for i in range(tensor.size(0)):\n",
    "        topv, topi = tensor[i].topk(1)\n",
    "        word += letters[topi[0][0]]\n",
    "    return word\n",
    "\n",
    "def target_tensor_to_word(tensor):\n",
    "    word = \"\"\n",
    "    for i in range(tensor.size(0)):\n",
    "        topv, topi = tensor[i].topk(1)\n",
    "        if topi[0][0] == num_letters-1:\n",
    "            word += \"<EOS>\"\n",
    "            break\n",
    "        word += letters[topi[0][0]]\n",
    "    return word\n",
    "print(\"This code helps visualize which characters represent an input_tensor and its corresponding target_tensor\")\n",
    "examples_to_show = 100\n",
    "count = 1\n",
    "for input, target in zip(train_input, train_target):\n",
    "    print(input_tensor_to_word(input))\n",
    "    print(target_tensor_to_word(target))\n",
    "    count += 1\n",
    "    if count > examples_to_show:\n",
    "        break\n"
   ]
  },
  {
   "cell_type": "code",
   "execution_count": 12,
   "metadata": {
    "colab": {
     "base_uri": "https://localhost:8080/"
    },
    "id": "3SjmOheE6bcn",
    "outputId": "ddd8b577-5073-48f9-91ed-65d755771f9c"
   },
   "outputs": [
    {
     "name": "stdout",
     "output_type": "stream",
     "text": [
      "dataset_sizes = {'train': 20000, 'val': 5000, 'test': 5000}\n"
     ]
    }
   ],
   "source": [
    "dataloaders = {'train': list(zip(train_input, train_target)),\n",
    "               'val': list(zip(val_input, val_target)),\n",
    "               'test': list(zip(test_input, test_target))}\n",
    "\n",
    "dataset_sizes = {'train': len(train_input),\n",
    "                 'val': len(val_input),\n",
    "                 'test': len(test_input)}\n",
    "print(f'dataset_sizes = {dataset_sizes}')"
   ]
  },
  {
   "cell_type": "markdown",
   "metadata": {
    "id": "dKtltT2-oUuo"
   },
   "source": [
    "### RNN Definition\n",
    "\n",
    "The model we create to solve this task will be a basic implementation of a Recurrent Neural Network (RNN). Luckily for us, PyTorch has a great implementation of an RNN module. We will use this built in RNN module and modify our standard `forward` method to account for the hidden state!\n",
    "\n",
    "By using an RNN, our neural network is able to make predictions on sequences of characters. Our forward pass will be slightly modified and include a hidden state that encodes information about the current sequence that the neural network has already seen. In addition to the encoded hidden state, the output of our forward pass will be the predicted probabilities for the next character in the sequence.\n",
    "\n",
    "Our training will be slightly different as the network will be predicting probabilities for the next character in the entire sequence, so we will be keeping track of the loss for an entire sequence before performing back propagation. We will explain this in more depth below.\n"
   ]
  },
  {
   "cell_type": "code",
   "execution_count": 13,
   "metadata": {
    "id": "bYLj4Qvzxldp"
   },
   "outputs": [],
   "source": [
    "class RNN(nn.Module):\n",
    "    def __init__(self, input_size, hidden_size, output_size):\n",
    "        super(RNN, self).__init__()\n",
    "\n",
    "        self.hidden_size = hidden_size\n",
    "\n",
    "        self.rnn = nn.RNN(input_size, hidden_size, num_layers = 1, nonlinearity = 'tanh', dropout = 0)\n",
    "\n",
    "        self.fc = nn.Linear(hidden_size, output_size)\n",
    "\n",
    "    def forward(self, input, hidden):\n",
    "\n",
    "        output, hidden = self.rnn(input, hidden)\n",
    "        output = self.fc(output)\n",
    "\n",
    "        return output, hidden\n",
    "\n",
    "    # This method will give us a hidden state tensor to use for our initial prediction of the sequence\n",
    "    def initHidden(self):\n",
    "        return torch.zeros(1, self.hidden_size)"
   ]
  },
  {
   "cell_type": "code",
   "execution_count": 14,
   "metadata": {
    "id": "DoQcZxUF-QBY"
   },
   "outputs": [],
   "source": [
    "# We will use a hidden size of 128 for this network\n",
    "word_rnn = RNN(num_letters, 128, num_letters).to(device)"
   ]
  },
  {
   "cell_type": "markdown",
   "metadata": {
    "id": "jUr2jUTXxl6Q"
   },
   "source": [
    "### Training\n",
    "\n",
    "Training the model will be very similar to classification tasks we have done in the past, however we will now account for the sequence of inputs and predictions. When training, we will calculate the loss for an entire sequence of characters (word) and perform back propagation at the end of a given sequence.\n",
    "\n",
    "We can define the steps for a given sequence below:\n",
    "\n",
    "1. Initialize the hidden state - Each call of `forward` requires a hidden state encoding. We have decided that our initial hidden state encoding for the first character in a sequence is a `zeros` tensor.\n",
    "2. Loop through the `input_tensor` and perform the following steps for each character in the sequence:\n",
    "\n",
    "    a. Call `forward` with the current character's encoding and the current `hidden_state`.\n",
    "\n",
    "    b. `forward` will output a probability distribution of the next predicted character and a new `hidden_state`\n",
    "\n",
    "    c. Calculate the loss of the output probability distribution of the next character with respect to the ground truth next character in the sequence and add it to the running total.\n",
    "\n",
    "    d. Continue to the next character in the input sequence using the latest `hidden_state`\n",
    "3. Once all of the characters in the sequence have been fed through the `forward` function, perform backpropagation given the entire loss of the sequence and redo this process for the next sequence.\n",
    "\n",
    "Note: our training function has been updated to represent this new workflow. Try and walk through the comments in the code to see how we implemented this new process in Python!\n",
    "\n"
   ]
  },
  {
   "cell_type": "code",
   "execution_count": 15,
   "metadata": {
    "id": "HRR_nA2ofl8t"
   },
   "outputs": [],
   "source": [
    "def train_rnn(model, dataloaders, dataset_sizes, criterion, optimizer, scheduler, num_epochs=25):\n",
    "    since = time.time()\n",
    "\n",
    "    best_model_wts = copy.deepcopy(model.state_dict()) # keep the best weights stored separately\n",
    "    best_loss = np.inf\n",
    "    best_epoch = 0\n",
    "\n",
    "    # Each epoch has a training, validation, and test phase\n",
    "    phases = ['train', 'val', 'test']\n",
    "\n",
    "    # Keep track of how loss evolves during training\n",
    "    training_curves = {}\n",
    "    for phase in phases:\n",
    "        training_curves[phase+'_loss'] = []\n",
    "\n",
    "    for epoch in range(num_epochs):\n",
    "        print(f'\\nEpoch {epoch+1}/{num_epochs}')\n",
    "        print('-' * 10)\n",
    "\n",
    "        for phase in phases:\n",
    "            if phase == 'train':\n",
    "                model.train()  # Set model to training mode\n",
    "            else:\n",
    "                model.eval()   # Set model to evaluate mode\n",
    "\n",
    "            running_loss = 0.0\n",
    "\n",
    "            # Iterate over data\n",
    "            for input_sequence, target_sequence in dataloaders[phase]:\n",
    "                # Now Iterate through each sequence here:\n",
    "\n",
    "                hidden = model.initHidden() # Start with a fresh hidden state\n",
    "\n",
    "                current_input_sequence = input_sequence.to(device)\n",
    "                current_target_sequence = target_sequence.to(device)\n",
    "\n",
    "                # zero the parameter gradients\n",
    "                optimizer.zero_grad()\n",
    "\n",
    "                # forward\n",
    "                with torch.set_grad_enabled(phase == 'train'):\n",
    "                    loss = 0\n",
    "                    # Make a prediction for each element in the sequence,\n",
    "                    # keeping track of the hidden state along the way\n",
    "                    for i in range(current_input_sequence.size(0)):\n",
    "                        current_hidden = hidden.to(device)\n",
    "                        output, hidden = model(current_input_sequence[i], current_hidden)\n",
    "                        l = criterion(output, current_target_sequence[i])\n",
    "                        loss += l\n",
    "\n",
    "                    # backward + update weights only if in training phase at the end of a sequence\n",
    "                    if phase == 'train':\n",
    "                        loss.backward()\n",
    "                        optimizer.step()\n",
    "\n",
    "                # statistics\n",
    "                running_loss += loss.item() / current_input_sequence.size(0)\n",
    "\n",
    "            if phase == 'train':\n",
    "                scheduler.step()\n",
    "\n",
    "            epoch_loss = running_loss / dataset_sizes[phase]\n",
    "            training_curves[phase+'_loss'].append(epoch_loss)\n",
    "\n",
    "            print(f'{phase:5} Loss: {epoch_loss:.4f}')\n",
    "\n",
    "            # deep copy the model if it's the best loss\n",
    "            if phase == 'val' and epoch_loss < best_loss:\n",
    "              best_epoch = epoch\n",
    "              best_loss = epoch_loss\n",
    "              best_model_wts = copy.deepcopy(model.state_dict())\n",
    "\n",
    "    time_elapsed = time.time() - since\n",
    "    print(f'\\nTraining complete in {time_elapsed // 60:.0f}m {time_elapsed % 60:.0f}s')\n",
    "    print(f'Best val Loss: {best_loss:4f} at epoch {best_epoch + 1}')\n",
    "\n",
    "    # load best model weights\n",
    "    model.load_state_dict(best_model_wts)\n",
    "\n",
    "    return model, training_curves"
   ]
  },
  {
   "cell_type": "code",
   "execution_count": 16,
   "metadata": {
    "id": "LIGWf9aAFpBD"
   },
   "outputs": [],
   "source": [
    "# This should look very similar to our previous tasks!\n",
    "learning_rate = 0.001\n",
    "num_epochs = 10 # We are only doing 10 Epochs here to save time, feel free to do longer!"
   ]
  },
  {
   "cell_type": "code",
   "execution_count": 17,
   "metadata": {
    "colab": {
     "base_uri": "https://localhost:8080/"
    },
    "id": "xzqzmUwL8Chj",
    "outputId": "f506c50c-060f-4079-9122-0d9a226d3703"
   },
   "outputs": [
    {
     "name": "stdout",
     "output_type": "stream",
     "text": [
      "\n",
      "Epoch 1/10\n",
      "----------\n",
      "train Loss: 1.6532\n",
      "val   Loss: 1.4259\n",
      "test  Loss: 1.4380\n",
      "\n",
      "Epoch 2/10\n",
      "----------\n",
      "train Loss: 1.3343\n",
      "val   Loss: 1.2974\n",
      "test  Loss: 1.3073\n",
      "\n",
      "Epoch 3/10\n",
      "----------\n",
      "train Loss: 1.2369\n",
      "val   Loss: 1.2378\n",
      "test  Loss: 1.2481\n",
      "\n",
      "Epoch 4/10\n",
      "----------\n",
      "train Loss: 1.1870\n",
      "val   Loss: 1.2077\n",
      "test  Loss: 1.2196\n",
      "\n",
      "Epoch 5/10\n",
      "----------\n",
      "train Loss: 1.1550\n",
      "val   Loss: 1.1881\n",
      "test  Loss: 1.2006\n",
      "\n",
      "Epoch 6/10\n",
      "----------\n",
      "train Loss: 1.1326\n",
      "val   Loss: 1.1740\n",
      "test  Loss: 1.1891\n",
      "\n",
      "Epoch 7/10\n",
      "----------\n",
      "train Loss: 1.1144\n",
      "val   Loss: 1.1598\n",
      "test  Loss: 1.1719\n",
      "\n",
      "Epoch 8/10\n",
      "----------\n",
      "train Loss: 1.0988\n",
      "val   Loss: 1.1522\n",
      "test  Loss: 1.1668\n",
      "\n",
      "Epoch 9/10\n",
      "----------\n",
      "train Loss: 1.0868\n",
      "val   Loss: 1.1423\n",
      "test  Loss: 1.1591\n",
      "\n",
      "Epoch 10/10\n",
      "----------\n",
      "train Loss: 1.0748\n",
      "val   Loss: 1.1311\n",
      "test  Loss: 1.1479\n",
      "\n",
      "Training complete in 3m 1s\n",
      "Best val Loss: 1.131093 at epoch 10\n"
     ]
    }
   ],
   "source": [
    "# Very similar code to training non recurrent models before!\n",
    "# loss and optimizer\n",
    "criterion = nn.CrossEntropyLoss() # CrossEntropyLoss for classification!\n",
    "optimizer = torch.optim.Adam(word_rnn.parameters(), lr=learning_rate)\n",
    "scheduler = torch.optim.lr_scheduler.ExponentialLR(optimizer, gamma=0.95)\n",
    "\n",
    "# Train the model. We also will store the results of training to visualize\n",
    "word_rnn, training_curves = train_rnn(word_rnn, dataloaders, dataset_sizes,\n",
    "                                     criterion, optimizer, scheduler, num_epochs=num_epochs)"
   ]
  },
  {
   "cell_type": "markdown",
   "metadata": {
    "id": "Diwgt3Fix2zg"
   },
   "source": [
    "### Visualizing Results\n",
    "\n",
    "We can visualize our training curve just like in our previous tasks. Here it looks like we are not overfitting after 10 Epochs - we could probably train this net longer!"
   ]
  },
  {
   "cell_type": "code",
   "execution_count": 18,
   "metadata": {
    "id": "GEWXj81iCrvE"
   },
   "outputs": [],
   "source": [
    "def plot_training_curves(training_curves,\n",
    "                         phases=['train', 'val', 'test'],\n",
    "                         metrics=['loss']):\n",
    "    epochs = list(range(len(training_curves['train_loss'])))\n",
    "    for metric in metrics:\n",
    "        plt.figure()\n",
    "        plt.title(f'Training curves - {metric}')\n",
    "        for phase in phases:\n",
    "            key = phase+'_'+metric\n",
    "            if key in training_curves:\n",
    "                plt.plot(epochs, training_curves[key])\n",
    "        plt.xlabel('epoch')\n",
    "        plt.legend(labels=phases)"
   ]
  },
  {
   "cell_type": "code",
   "execution_count": 19,
   "metadata": {
    "colab": {
     "base_uri": "https://localhost:8080/",
     "height": 295
    },
    "id": "BgaR32cNCxUC",
    "outputId": "9594ab29-72cb-4142-9683-a25b7f8bc5df"
   },
   "outputs": [
    {
     "data": {
      "image/png": "[encoded data removed]",
      "text/plain": [
       "<Figure size 640x480 with 1 Axes>"
      ]
     },
     "metadata": {},
     "output_type": "display_data"
    }
   ],
   "source": [
    "plot_training_curves(training_curves, phases=['train', 'val', 'test'])"
   ]
  },
  {
   "cell_type": "markdown",
   "metadata": {
    "id": "Hjpv3rrAyUST"
   },
   "source": [
    "### Generating Words\n",
    "\n",
    "Below we have included a function that runs the network on a specified input sequence. This could be one letter or part of word! We have included some examples below, see what words the network will predict for you!\n",
    "\n",
    "The results of this network will be heavily determined by the random sample of sentences that was given at the beginning. The more a certain word appears in our training data, the more likely it is to be predicted. This is very similar to the word suggestion features you see on your smartphone keyboard!"
   ]
  },
  {
   "cell_type": "code",
   "execution_count": 20,
   "metadata": {
    "id": "h35LR8siENSg"
   },
   "outputs": [],
   "source": [
    "def predict(model, input_letters, max_length = 50):\n",
    "    output_word = input_letters\n",
    "    tensor = input_tensor(input_letters)\n",
    "    hidden = model.initHidden()\n",
    "    current_input_sequence = tensor.to(device)\n",
    "    input = None\n",
    "\n",
    "    for i in range(current_input_sequence.size(0)):\n",
    "        current_hidden = hidden.to(device)\n",
    "        output, hidden = model(current_input_sequence[i], current_hidden)\n",
    "\n",
    "    topv, topi = output.topk(1)\n",
    "    topi = topi[0][0]\n",
    "    if topi == num_letters - 1:\n",
    "        # print(\"Most likely word was our initial letters, grab the second most likely\")\n",
    "        topv, topi = output.topk(2)\n",
    "        topi = topi[0][1]\n",
    "    letter = letters[topi]\n",
    "    output_word += letter\n",
    "    input = input_tensor(letter)\n",
    "\n",
    "    for i in range(len(input_letters), max_length):\n",
    "        current_hidden = hidden.to(device)\n",
    "        current_input = input[0].to(device)\n",
    "        output, hidden = model(current_input, current_hidden)\n",
    "        topv, topi = output.topk(1)\n",
    "        topi = topi[0][0]\n",
    "        if topi == num_letters - 1:\n",
    "            # print(\"Hit the EOS\")\n",
    "            break\n",
    "        letter = letters[topi]\n",
    "        output_word += letter\n",
    "        input = input_tensor(letter)\n",
    "    return output_word"
   ]
  },
  {
   "cell_type": "code",
   "execution_count": 21,
   "metadata": {
    "colab": {
     "base_uri": "https://localhost:8080/"
    },
    "id": "LbYyrIeVnLsE",
    "outputId": "0ca93d4b-c211-46f1-9939-e727922f55ae"
   },
   "outputs": [
    {
     "name": "stdout",
     "output_type": "stream",
     "text": [
      "has\n",
      "all\n",
      "can\n"
     ]
    }
   ],
   "source": [
    "print(predict(word_rnn, \"ha\"))\n",
    "print(predict(word_rnn, \"al\"))\n",
    "print(predict(word_rnn, \"c\"))"
   ]
  },
  {
   "cell_type": "code",
   "execution_count": 22,
   "metadata": {
    "colab": {
     "base_uri": "https://localhost:8080/"
    },
    "id": "A7adK27eaODk",
    "outputId": "46a4bcb8-bb66-406f-e9ec-b59c08ec3ee9"
   },
   "outputs": [
    {
     "name": "stdout",
     "output_type": "stream",
     "text": [
      "floor\n"
     ]
    }
   ],
   "source": [
    "print(predict(word_rnn, \"fl\"))"
   ]
  },
  {
   "cell_type": "markdown",
   "metadata": {
    "id": "LTTaTWhPLMTN"
   },
   "source": [
    "\n",
    "## Sentence Completion\n",
    "\n",
    "Now we will turn to the task of sentence completion! This will be relatively straightforward since we will still be working with one hot encodings of sequences of characters. There are other more sophisticated ways to encode our training samples that we will discuss later on."
   ]
  },
  {
   "cell_type": "code",
   "execution_count": 23,
   "metadata": {
    "id": "hFSKAkfB3Mm_"
   },
   "outputs": [
    {
     "name": "stdout",
     "output_type": "stream",
     "text": [
      "english sentences len 142511\n"
     ]
    }
   ],
   "source": [
    "print(\"english sentences len\", len(english_sentences))\n",
    "train_sentences = english_sentences[:10000]\n",
    "val_sentences = english_sentences[10000:20000]\n",
    "test_sentences = english_sentences[20000:30000]"
   ]
  },
  {
   "cell_type": "markdown",
   "metadata": {
    "id": "mRM0QT3Q0Wvt"
   },
   "source": [
    "### Encoding\n",
    "\n",
    "Our encoding here is super simple. We will use the exact same function as before, just operating on an entire sentence instead of a singular word!"
   ]
  },
  {
   "cell_type": "code",
   "execution_count": 24,
   "metadata": {
    "id": "aRNqiQSw3K79"
   },
   "outputs": [],
   "source": [
    "train_input_sentence = [input_tensor(sentence) for sentence in train_sentences]\n",
    "train_target_sentence = [target_tensor(sentence) for sentence in train_sentences]\n",
    "val_input_sentence = [input_tensor(sentence) for sentence in val_sentences]\n",
    "val_target_sentence = [target_tensor(sentence) for sentence in val_sentences]\n",
    "test_input_sentence = [input_tensor(sentence) for sentence in test_sentences]\n",
    "test_target_sentence = [target_tensor(sentence) for sentence in test_sentences]"
   ]
  },
  {
   "cell_type": "code",
   "execution_count": 25,
   "metadata": {
    "colab": {
     "base_uri": "https://localhost:8080/"
    },
    "id": "VaJtJZJL4KYF",
    "outputId": "4a33d24a-2add-44bb-e43e-5b63f76dff22"
   },
   "outputs": [
    {
     "name": "stdout",
     "output_type": "stream",
     "text": [
      "dataset_sizes = {'train': 10000, 'val': 10000, 'test': 10000}\n"
     ]
    }
   ],
   "source": [
    "dataloaders_sentences = {'train': list(zip(train_input_sentence, train_target_sentence)),\n",
    "               'val': list(zip(val_input_sentence, val_target_sentence)),\n",
    "               'test': list(zip(test_input_sentence, test_target_sentence))}\n",
    "\n",
    "dataset_sizes_sentences = {'train': len(train_input_sentence),\n",
    "                 'val': len(train_input_sentence),\n",
    "                 'test': len(train_input_sentence)}\n",
    "print(f'dataset_sizes = {dataset_sizes_sentences}')"
   ]
  },
  {
   "cell_type": "markdown",
   "metadata": {
    "id": "qAwNSS5M0qhT"
   },
   "source": [
    "### RNN Definition\n",
    "\n",
    "Additionally, we can use the exact same architecture! We will just use a larger hidden layer since our sequences will be longer."
   ]
  },
  {
   "cell_type": "code",
   "execution_count": 26,
   "metadata": {
    "id": "Dz9h0YlQ4fhG"
   },
   "outputs": [],
   "source": [
    "# Bigger rnn\n",
    "sentences_rnn = RNN(num_letters, 256, num_letters).to(device)"
   ]
  },
  {
   "cell_type": "markdown",
   "metadata": {
    "id": "LDqLqS1k0sUD"
   },
   "source": [
    "### Training\n",
    "\n",
    "Here we will train for another 10 Epochs as it takes a very long time to train recurrent models. Increasing the number of epochs should increase the performance of the model."
   ]
  },
  {
   "cell_type": "code",
   "execution_count": 27,
   "metadata": {
    "id": "QZhztvmL1KLZ"
   },
   "outputs": [],
   "source": [
    "# This should look very similar to our previous tasks!\n",
    "learning_rate = 0.001\n",
    "num_epochs = 30 # We are only doing 10 Epochs here to save time, feel free to do longer!"
   ]
  },
  {
   "cell_type": "code",
   "execution_count": 28,
   "metadata": {
    "colab": {
     "base_uri": "https://localhost:8080/"
    },
    "id": "doZ1fwqN4r-m",
    "outputId": "6860a04f-1902-4d91-b0b8-8ad83dac5ce1"
   },
   "outputs": [
    {
     "name": "stdout",
     "output_type": "stream",
     "text": [
      "\n",
      "Epoch 1/30\n",
      "----------\n",
      "train Loss: 0.9520\n",
      "val   Loss: 3.4003\n",
      "test  Loss: 3.3980\n",
      "\n",
      "Epoch 2/30\n",
      "----------\n",
      "train Loss: 0.8031\n",
      "val   Loss: 3.1105\n",
      "test  Loss: 3.1089\n",
      "\n",
      "Epoch 3/30\n",
      "----------\n",
      "train Loss: 0.7503\n",
      "val   Loss: 2.9866\n",
      "test  Loss: 2.9856\n",
      "\n",
      "Epoch 4/30\n",
      "----------\n",
      "train Loss: 0.7178\n",
      "val   Loss: 2.8923\n",
      "test  Loss: 2.8887\n",
      "\n",
      "Epoch 5/30\n",
      "----------\n",
      "train Loss: 0.6948\n",
      "val   Loss: 2.8374\n",
      "test  Loss: 2.8332\n",
      "\n",
      "Epoch 6/30\n",
      "----------\n",
      "train Loss: 0.6769\n",
      "val   Loss: 2.7843\n",
      "test  Loss: 2.7827\n",
      "\n",
      "Epoch 7/30\n",
      "----------\n",
      "train Loss: 0.6645\n",
      "val   Loss: 2.7508\n",
      "test  Loss: 2.7477\n",
      "\n",
      "Epoch 8/30\n",
      "----------\n",
      "train Loss: 0.6508\n",
      "val   Loss: 2.7130\n",
      "test  Loss: 2.7092\n",
      "\n",
      "Epoch 9/30\n",
      "----------\n",
      "train Loss: 0.6391\n",
      "val   Loss: 2.7236\n",
      "test  Loss: 2.7189\n",
      "\n",
      "Epoch 10/30\n",
      "----------\n",
      "train Loss: 0.6317\n",
      "val   Loss: 2.6641\n",
      "test  Loss: 2.6613\n",
      "\n",
      "Epoch 11/30\n",
      "----------\n",
      "train Loss: 0.6240\n",
      "val   Loss: 2.6443\n",
      "test  Loss: 2.6399\n",
      "\n",
      "Epoch 12/30\n",
      "----------\n",
      "train Loss: 0.6145\n",
      "val   Loss: 2.6312\n",
      "test  Loss: 2.6280\n",
      "\n",
      "Epoch 13/30\n",
      "----------\n",
      "train Loss: 0.6042\n",
      "val   Loss: 2.6336\n",
      "test  Loss: 2.6267\n",
      "\n",
      "Epoch 14/30\n",
      "----------\n",
      "train Loss: 0.5983\n",
      "val   Loss: 2.6195\n",
      "test  Loss: 2.6119\n",
      "\n",
      "Epoch 15/30\n",
      "----------\n",
      "train Loss: 0.5902\n",
      "val   Loss: 2.6040\n",
      "test  Loss: 2.5975\n",
      "\n",
      "Epoch 16/30\n",
      "----------\n",
      "train Loss: 0.5826\n",
      "val   Loss: 2.5811\n",
      "test  Loss: 2.5776\n",
      "\n",
      "Epoch 17/30\n",
      "----------\n",
      "train Loss: 0.5755\n",
      "val   Loss: 2.5826\n",
      "test  Loss: 2.5787\n",
      "\n",
      "Epoch 18/30\n",
      "----------\n",
      "train Loss: 0.5689\n",
      "val   Loss: 2.5728\n",
      "test  Loss: 2.5654\n",
      "\n",
      "Epoch 19/30\n",
      "----------\n",
      "train Loss: 0.5631\n",
      "val   Loss: 2.5549\n",
      "test  Loss: 2.5493\n",
      "\n",
      "Epoch 20/30\n",
      "----------\n",
      "train Loss: 0.5580\n",
      "val   Loss: 2.5524\n",
      "test  Loss: 2.5492\n",
      "\n",
      "Epoch 21/30\n",
      "----------\n",
      "train Loss: 0.5512\n",
      "val   Loss: 2.5535\n",
      "test  Loss: 2.5466\n",
      "\n",
      "Epoch 22/30\n",
      "----------\n",
      "train Loss: 0.5456\n",
      "val   Loss: 2.5458\n",
      "test  Loss: 2.5375\n",
      "\n",
      "Epoch 23/30\n",
      "----------\n",
      "train Loss: 0.5432\n",
      "val   Loss: 2.5448\n",
      "test  Loss: 2.5407\n",
      "\n",
      "Epoch 24/30\n",
      "----------\n",
      "train Loss: 0.5358\n",
      "val   Loss: 2.5416\n",
      "test  Loss: 2.5365\n",
      "\n",
      "Epoch 25/30\n",
      "----------\n",
      "train Loss: 0.5311\n",
      "val   Loss: 2.5388\n",
      "test  Loss: 2.5347\n",
      "\n",
      "Epoch 26/30\n",
      "----------\n",
      "train Loss: 0.5269\n",
      "val   Loss: 2.5439\n",
      "test  Loss: 2.5381\n",
      "\n",
      "Epoch 27/30\n",
      "----------\n",
      "train Loss: 0.5227\n",
      "val   Loss: 2.5398\n",
      "test  Loss: 2.5337\n",
      "\n",
      "Epoch 28/30\n",
      "----------\n",
      "train Loss: 0.5182\n",
      "val   Loss: 2.5406\n",
      "test  Loss: 2.5357\n",
      "\n",
      "Epoch 29/30\n",
      "----------\n",
      "train Loss: 0.5150\n",
      "val   Loss: 2.5436\n",
      "test  Loss: 2.5375\n",
      "\n",
      "Epoch 30/30\n",
      "----------\n",
      "train Loss: 0.5104\n",
      "val   Loss: 2.5428\n",
      "test  Loss: 2.5374\n",
      "\n",
      "Training complete in 54m 38s\n",
      "Best val Loss: 2.538777 at epoch 25\n"
     ]
    }
   ],
   "source": [
    "# loss and optimizer\n",
    "criterion = nn.CrossEntropyLoss() # CrossEntropyLoss for classification!\n",
    "optimizer = torch.optim.Adam(sentences_rnn.parameters(), lr=learning_rate)\n",
    "scheduler = torch.optim.lr_scheduler.ExponentialLR(optimizer, gamma=0.95)\n",
    "\n",
    "# Train the model. We also will store the results of training to visualize\n",
    "sentences_rnn, training_curves_sentences = train_rnn(sentences_rnn, dataloaders_sentences, dataset_sizes,\n",
    "                                     criterion, optimizer, scheduler, num_epochs=num_epochs)"
   ]
  },
  {
   "cell_type": "markdown",
   "metadata": {
    "id": "xYQTMMVX03v7"
   },
   "source": [
    "### Visualizing Results"
   ]
  },
  {
   "cell_type": "code",
   "execution_count": 29,
   "metadata": {
    "colab": {
     "base_uri": "https://localhost:8080/",
     "height": 295
    },
    "id": "w-FABBjpC6JV",
    "outputId": "097a983a-5779-44f7-b749-e81d3c118f8c"
   },
   "outputs": [
    {
     "data": {
      "image/png": "[encoded data removed]",
      "text/plain": [
       "<Figure size 640x480 with 1 Axes>"
      ]
     },
     "metadata": {},
     "output_type": "display_data"
    }
   ],
   "source": [
    "plot_training_curves(training_curves_sentences, phases=['train', 'val', 'test'])"
   ]
  },
  {
   "cell_type": "markdown",
   "metadata": {
    "id": "DU6G9V4505v-"
   },
   "source": [
    "### Generating Sentences\n",
    "\n",
    "We can use the exact same function as before with our new model in order to generate sentences. Try some of your own examples below!"
   ]
  },
  {
   "cell_type": "code",
   "execution_count": 30,
   "metadata": {
    "colab": {
     "base_uri": "https://localhost:8080/"
    },
    "id": "82X4oC3S7aHo",
    "outputId": "204e77cb-e0a3-4851-cf29-2d0654d17868"
   },
   "outputs": [
    {
     "name": "stdout",
     "output_type": "stream",
     "text": [
      "I ate a beautiful .\n"
     ]
    }
   ],
   "source": [
    "print(predict(sentences_rnn, \"I ate a \"))"
   ]
  },
  {
   "cell_type": "code",
   "execution_count": 31,
   "metadata": {
    "colab": {
     "base_uri": "https://localhost:8080/"
    },
    "id": "yIyXR6cMQzDP",
    "outputId": "39ab5c0c-5977-4c12-91fa-e2a85d57ae7b"
   },
   "outputs": [
    {
     "name": "stdout",
     "output_type": "stream",
     "text": [
      "What is in the street .\n"
     ]
    }
   ],
   "source": [
    "print(predict(sentences_rnn, \"What is\"))"
   ]
  },
  {
   "cell_type": "code",
   "execution_count": 32,
   "metadata": {
    "colab": {
     "base_uri": "https://localhost:8080/"
    },
    "id": "ifIHKZgxQ3mt",
    "outputId": "bda5ed6c-33d4-4761-e374-87922323d077"
   },
   "outputs": [
    {
     "name": "stdout",
     "output_type": "stream",
     "text": [
      "My name is a car .\n"
     ]
    }
   ],
   "source": [
    "print(predict(sentences_rnn, \"My name is\"))"
   ]
  },
  {
   "cell_type": "code",
   "execution_count": 33,
   "metadata": {
    "colab": {
     "base_uri": "https://localhost:8080/"
    },
    "id": "y0QadAaXQ8C_",
    "outputId": "7328d70d-a669-4798-94fe-d329ab329eae"
   },
   "outputs": [
    {
     "name": "stdout",
     "output_type": "stream",
     "text": [
      "Han are they does the train .\n"
     ]
    }
   ],
   "source": [
    "print(predict(sentences_rnn, \"Ha\"))"
   ]
  },
  {
   "cell_type": "code",
   "execution_count": 34,
   "metadata": {
    "colab": {
     "base_uri": "https://localhost:8080/"
    },
    "id": "WwGefkBg4NLx",
    "outputId": "5ee7d2ef-5175-4eb3-8b79-98557a6c8336"
   },
   "outputs": [
    {
     "name": "stdout",
     "output_type": "stream",
     "text": [
      "Aome day .\n"
     ]
    }
   ],
   "source": [
    "print(predict(sentences_rnn, \"A\"))"
   ]
  },
  {
   "cell_type": "code",
   "execution_count": 36,
   "metadata": {},
   "outputs": [
    {
     "name": "stdout",
     "output_type": "stream",
     "text": [
      "The cell contains many singing .\n"
     ]
    }
   ],
   "source": [
    "print(predict(sentences_rnn, \"The cell contains many\"))"
   ]
  },
  {
   "cell_type": "code",
   "execution_count": 38,
   "metadata": {},
   "outputs": [
    {
     "name": "stdout",
     "output_type": "stream",
     "text": [
      "The color you a lot .\n"
     ]
    }
   ],
   "source": [
    "print(predict(sentences_rnn, \"The color\"))"
   ]
  },
  {
   "cell_type": "markdown",
   "metadata": {
    "id": "Mr3BkX8z1WNl"
   },
   "source": [
    "## Conclusions\n",
    "\n",
    "In this notebook we have seen how to apply our powerful deep neural networks to different sequence based prediction tasks. We can see from the sentence completion results that our network does not produce super intelligent results. In future notebooks we will examine ways to improve our models and tackling more challenging tasks such as machine translation.\n",
    "\n",
    "Some of the methods to increase performance are: Larger datasets, increased training time, more intelligent word level embeddings (word2vec), and more sophisticated deep neural networks (LSTMs and Transformers)."
   ]
  }
 ],
 "metadata": {
  "accelerator": "GPU",
  "colab": {
   "include_colab_link": true,
   "provenance": [],
   "toc_visible": true
  },
  "gpuClass": "standard",
  "kernelspec": {
   "display_name": "Python 3 (ipykernel)",
   "language": "python",
   "name": "python3"
  },
  "language_info": {
   "codemirror_mode": {
    "name": "ipython",
    "version": 3
   },
   "file_extension": ".py",
   "mimetype": "text/x-python",
   "name": "python",
   "nbconvert_exporter": "python",
   "pygments_lexer": "ipython3",
   "version": "3.13.5"
  }
 },
 "nbformat": 4,
 "nbformat_minor": 4
}
